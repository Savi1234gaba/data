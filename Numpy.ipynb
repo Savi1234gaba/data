{
  "nbformat": 4,
  "nbformat_minor": 0,
  "metadata": {
    "colab": {
      "provenance": [],
      "authorship_tag": "ABX9TyPaLR7lbLIzeO6m+7te61Nu",
      "include_colab_link": true
    },
    "kernelspec": {
      "name": "python3",
      "display_name": "Python 3"
    },
    "language_info": {
      "name": "python"
    }
  },
  "cells": [
    {
      "cell_type": "markdown",
      "metadata": {
        "id": "view-in-github",
        "colab_type": "text"
      },
      "source": [
        "<a href=\"https://colab.research.google.com/github/Savi1234gaba/data/blob/main/Numpy.ipynb\" target=\"_parent\"><img src=\"https://colab.research.google.com/assets/colab-badge.svg\" alt=\"Open In Colab\"/></a>"
      ]
    },
    {
      "cell_type": "code",
      "execution_count": null,
      "metadata": {
        "colab": {
          "base_uri": "https://localhost:8080/"
        },
        "id": "mqWQhCswo2-3",
        "outputId": "e67f83bc-16fb-4b37-82be-264ca065e3dc"
      },
      "outputs": [
        {
          "output_type": "stream",
          "name": "stdout",
          "text": [
            "Requirement already satisfied: xgboost in /usr/local/lib/python3.11/dist-packages (2.1.3)\n",
            "Requirement already satisfied: numpy in /usr/local/lib/python3.11/dist-packages (from xgboost) (1.26.4)\n",
            "Requirement already satisfied: nvidia-nccl-cu12 in /usr/local/lib/python3.11/dist-packages (from xgboost) (2.21.5)\n",
            "Requirement already satisfied: scipy in /usr/local/lib/python3.11/dist-packages (from xgboost) (1.13.1)\n"
          ]
        }
      ],
      "source": [
        "!pip install xgboost"
      ]
    },
    {
      "cell_type": "code",
      "source": [
        "import numpy as np\n",
        "\n",
        "import numpy as np\n",
        "\n",
        "# Statement to import the numpy library\n",
        "import numpy as np\n",
        "\n",
        "import math\n",
        "\n",
        "\n",
        "import sys\n",
        "\n",
        "\n",
        "import numpy as np\n",
        "\n",
        "\n",
        "\n",
        "# Creating our first array in python\n",
        "my_array = np.array([1,2,3,4,5,6,7])\n",
        "\n",
        "\n",
        "type(my_array) # ndarray - n-dimensional array\n",
        "import numpy as np\n",
        "\n",
        "\n",
        "import math\n",
        "\n",
        "\n",
        "import sys\n",
        "\n",
        "\n",
        "import numpy as np\n",
        "\n",
        "\n",
        "\n",
        "# Creating our first array in python\n",
        "my_array = np.array([1,2,3,4,5,6,7])\n",
        "\n",
        "\n",
        "type(my_array) # ndarray - n-dimensional array\n",
        "import numpy as np\n",
        "\n",
        "import math\n",
        "\n",
        "\n",
        "import sys\n",
        "\n",
        "\n",
        "import numpy as np\n",
        "\n",
        "\n",
        "\n",
        "# Creating our first array in python\n",
        "my_array = np.array([1,2,3,4,5,6,7])\n",
        "\n",
        "\n",
        "type(my_array) # ndarray - n-dimensional array\n",
        "import numpy as np\n",
        "\n",
        "\n",
        "import math as math\n",
        "\n",
        "\n",
        "import sys\n",
        "\n",
        "\n",
        "import numpy as np\n",
        "\n",
        "\n",
        "\n",
        "# Creating our first array in python\n",
        "my_array = np.array([1,2,3,4,5,6,7])\n",
        "\n",
        "\n",
        "type(my_array) # ndarray - n-dimensional array"
      ],
      "metadata": {
        "id": "ARsDA_GH2k2-",
        "colab": {
          "base_uri": "https://localhost:8080/"
        },
        "outputId": "ea2eee30-adbf-4589-eec4-d7f1a7733ced"
      },
      "execution_count": null,
      "outputs": [
        {
          "output_type": "execute_result",
          "data": {
            "text/plain": [
              "numpy.ndarray"
            ]
          },
          "metadata": {},
          "execution_count": 8
        }
      ]
    },
    {
      "cell_type": "code",
      "source": [
        "my_array.shape"
      ],
      "metadata": {
        "colab": {
          "base_uri": "https://localhost:8080/"
        },
        "id": "CHopBUH6-BE-",
        "outputId": "b13cd198-7ec9-4ae9-8896-51800039538f"
      },
      "execution_count": null,
      "outputs": [
        {
          "output_type": "execute_result",
          "data": {
            "text/plain": [
              "(7,)"
            ]
          },
          "metadata": {},
          "execution_count": 9
        }
      ]
    },
    {
      "cell_type": "code",
      "source": [
        "my_array.size"
      ],
      "metadata": {
        "colab": {
          "base_uri": "https://localhost:8080/"
        },
        "id": "ni-g8c_--Jto",
        "outputId": "9352cc3d-256c-4da5-b8e5-364a04d5191f"
      },
      "execution_count": null,
      "outputs": [
        {
          "output_type": "execute_result",
          "data": {
            "text/plain": [
              "7"
            ]
          },
          "metadata": {},
          "execution_count": 10
        }
      ]
    },
    {
      "cell_type": "code",
      "source": [
        "import pandas as pd\n",
        "\n",
        "\n",
        "# One-dimensional array of some prime numbers\n",
        "prime_array = np.array([2,3,5,7.7,11.5], dtype=\"str\")\n",
        "print(prime_array)"
      ],
      "metadata": {
        "colab": {
          "base_uri": "https://localhost:8080/"
        },
        "id": "dwMvl3Bx-Ni7",
        "outputId": "372196ca-430d-4ab9-f0eb-e238b250f5cd"
      },
      "execution_count": null,
      "outputs": [
        {
          "output_type": "stream",
          "name": "stdout",
          "text": [
            "['2' '3' '5' '7.7' '11.5']\n"
          ]
        }
      ]
    },
    {
      "cell_type": "code",
      "source": [
        "type(prime_array[-1])"
      ],
      "metadata": {
        "colab": {
          "base_uri": "https://localhost:8080/"
        },
        "id": "E16E8EVS-wic",
        "outputId": "b3b51ae7-4549-4f66-e361-618587b465d6"
      },
      "execution_count": null,
      "outputs": [
        {
          "output_type": "execute_result",
          "data": {
            "text/plain": [
              "numpy.str_"
            ]
          },
          "metadata": {},
          "execution_count": 12
        }
      ]
    },
    {
      "cell_type": "code",
      "source": [
        "type(prime_array)"
      ],
      "metadata": {
        "colab": {
          "base_uri": "https://localhost:8080/"
        },
        "id": "oEhM8_7o-2_G",
        "outputId": "6485b1ac-7e54-472e-f686-21e91fbada6c"
      },
      "execution_count": null,
      "outputs": [
        {
          "output_type": "execute_result",
          "data": {
            "text/plain": [
              "numpy.ndarray"
            ]
          },
          "metadata": {},
          "execution_count": 13
        }
      ]
    },
    {
      "cell_type": "code",
      "source": [
        "# Create a two-dimensional array\n",
        "another_array = np.array([[1,2],[2,4]])\n",
        "print(another_array)"
      ],
      "metadata": {
        "colab": {
          "base_uri": "https://localhost:8080/"
        },
        "id": "SIQpAGMF-7P6",
        "outputId": "d32c11a3-4ca1-4dfd-f7d7-ad5cf953aa3a"
      },
      "execution_count": null,
      "outputs": [
        {
          "output_type": "stream",
          "name": "stdout",
          "text": [
            "[[1 2]\n",
            " [2 4]]\n"
          ]
        }
      ]
    },
    {
      "cell_type": "code",
      "source": [
        "list_of_list = [[1,2],[5,4]]\n",
        "\n",
        "list_of_list[1][0]"
      ],
      "metadata": {
        "colab": {
          "base_uri": "https://localhost:8080/"
        },
        "id": "_ge-tryr7OX8",
        "outputId": "e6967d70-5316-44e4-9b2c-fcad5fc2a737"
      },
      "execution_count": null,
      "outputs": [
        {
          "output_type": "execute_result",
          "data": {
            "text/plain": [
              "5"
            ]
          },
          "metadata": {},
          "execution_count": 16
        }
      ]
    },
    {
      "cell_type": "code",
      "source": [
        "# Importing the entire library\n",
        "import sklearn as skl\n",
        "\n",
        "\n",
        "# Not importing the entire library but only a specific module named datasets in sklearn library\n",
        "import sklearn.datasets as data\n",
        "\n",
        "data"
      ],
      "metadata": {
        "colab": {
          "base_uri": "https://localhost:8080/"
        },
        "id": "nEvdIodW_wpS",
        "outputId": "d2899957-13ef-4c29-b3ed-aab89a952e88"
      },
      "execution_count": null,
      "outputs": [
        {
          "output_type": "execute_result",
          "data": {
            "text/plain": [
              "<module 'sklearn.datasets' from '/usr/local/lib/python3.11/dist-packages/sklearn/datasets/__init__.py'>"
            ]
          },
          "metadata": {},
          "execution_count": 17
        }
      ]
    },
    {
      "cell_type": "code",
      "source": [
        "data.load_wine()"
      ],
      "metadata": {
        "colab": {
          "base_uri": "https://localhost:8080/"
        },
        "id": "mYhfnLJhALm5",
        "outputId": "7dc68144-ea0c-4356-815a-782124500b46"
      },
      "execution_count": null,
      "outputs": [
        {
          "output_type": "execute_result",
          "data": {
            "text/plain": [
              "{'data': array([[1.423e+01, 1.710e+00, 2.430e+00, ..., 1.040e+00, 3.920e+00,\n",
              "         1.065e+03],\n",
              "        [1.320e+01, 1.780e+00, 2.140e+00, ..., 1.050e+00, 3.400e+00,\n",
              "         1.050e+03],\n",
              "        [1.316e+01, 2.360e+00, 2.670e+00, ..., 1.030e+00, 3.170e+00,\n",
              "         1.185e+03],\n",
              "        ...,\n",
              "        [1.327e+01, 4.280e+00, 2.260e+00, ..., 5.900e-01, 1.560e+00,\n",
              "         8.350e+02],\n",
              "        [1.317e+01, 2.590e+00, 2.370e+00, ..., 6.000e-01, 1.620e+00,\n",
              "         8.400e+02],\n",
              "        [1.413e+01, 4.100e+00, 2.740e+00, ..., 6.100e-01, 1.600e+00,\n",
              "         5.600e+02]]),\n",
              " 'target': array([0, 0, 0, 0, 0, 0, 0, 0, 0, 0, 0, 0, 0, 0, 0, 0, 0, 0, 0, 0, 0, 0,\n",
              "        0, 0, 0, 0, 0, 0, 0, 0, 0, 0, 0, 0, 0, 0, 0, 0, 0, 0, 0, 0, 0, 0,\n",
              "        0, 0, 0, 0, 0, 0, 0, 0, 0, 0, 0, 0, 0, 0, 0, 1, 1, 1, 1, 1, 1, 1,\n",
              "        1, 1, 1, 1, 1, 1, 1, 1, 1, 1, 1, 1, 1, 1, 1, 1, 1, 1, 1, 1, 1, 1,\n",
              "        1, 1, 1, 1, 1, 1, 1, 1, 1, 1, 1, 1, 1, 1, 1, 1, 1, 1, 1, 1, 1, 1,\n",
              "        1, 1, 1, 1, 1, 1, 1, 1, 1, 1, 1, 1, 1, 1, 1, 1, 1, 1, 1, 1, 2, 2,\n",
              "        2, 2, 2, 2, 2, 2, 2, 2, 2, 2, 2, 2, 2, 2, 2, 2, 2, 2, 2, 2, 2, 2,\n",
              "        2, 2, 2, 2, 2, 2, 2, 2, 2, 2, 2, 2, 2, 2, 2, 2, 2, 2, 2, 2, 2, 2,\n",
              "        2, 2]),\n",
              " 'frame': None,\n",
              " 'target_names': array(['class_0', 'class_1', 'class_2'], dtype='<U7'),\n",
              " 'DESCR': '.. _wine_dataset:\\n\\nWine recognition dataset\\n------------------------\\n\\n**Data Set Characteristics:**\\n\\n:Number of Instances: 178\\n:Number of Attributes: 13 numeric, predictive attributes and the class\\n:Attribute Information:\\n    - Alcohol\\n    - Malic acid\\n    - Ash\\n    - Alcalinity of ash\\n    - Magnesium\\n    - Total phenols\\n    - Flavanoids\\n    - Nonflavanoid phenols\\n    - Proanthocyanins\\n    - Color intensity\\n    - Hue\\n    - OD280/OD315 of diluted wines\\n    - Proline\\n    - class:\\n        - class_0\\n        - class_1\\n        - class_2\\n\\n:Summary Statistics:\\n\\n============================= ==== ===== ======= =====\\n                                Min   Max   Mean     SD\\n============================= ==== ===== ======= =====\\nAlcohol:                      11.0  14.8    13.0   0.8\\nMalic Acid:                   0.74  5.80    2.34  1.12\\nAsh:                          1.36  3.23    2.36  0.27\\nAlcalinity of Ash:            10.6  30.0    19.5   3.3\\nMagnesium:                    70.0 162.0    99.7  14.3\\nTotal Phenols:                0.98  3.88    2.29  0.63\\nFlavanoids:                   0.34  5.08    2.03  1.00\\nNonflavanoid Phenols:         0.13  0.66    0.36  0.12\\nProanthocyanins:              0.41  3.58    1.59  0.57\\nColour Intensity:              1.3  13.0     5.1   2.3\\nHue:                          0.48  1.71    0.96  0.23\\nOD280/OD315 of diluted wines: 1.27  4.00    2.61  0.71\\nProline:                       278  1680     746   315\\n============================= ==== ===== ======= =====\\n\\n:Missing Attribute Values: None\\n:Class Distribution: class_0 (59), class_1 (71), class_2 (48)\\n:Creator: R.A. Fisher\\n:Donor: Michael Marshall (MARSHALL%PLU@io.arc.nasa.gov)\\n:Date: July, 1988\\n\\nThis is a copy of UCI ML Wine recognition datasets.\\nhttps://archive.ics.uci.edu/ml/machine-learning-databases/wine/wine.data\\n\\nThe data is the results of a chemical analysis of wines grown in the same\\nregion in Italy by three different cultivators. There are thirteen different\\nmeasurements taken for different constituents found in the three types of\\nwine.\\n\\nOriginal Owners:\\n\\nForina, M. et al, PARVUS -\\nAn Extendible Package for Data Exploration, Classification and Correlation.\\nInstitute of Pharmaceutical and Food Analysis and Technologies,\\nVia Brigata Salerno, 16147 Genoa, Italy.\\n\\nCitation:\\n\\nLichman, M. (2013). UCI Machine Learning Repository\\n[https://archive.ics.uci.edu/ml]. Irvine, CA: University of California,\\nSchool of Information and Computer Science.\\n\\n.. dropdown:: References\\n\\n    (1) S. Aeberhard, D. Coomans and O. de Vel,\\n    Comparison of Classifiers in High Dimensional Settings,\\n    Tech. Rep. no. 92-02, (1992), Dept. of Computer Science and Dept. of\\n    Mathematics and Statistics, James Cook University of North Queensland.\\n    (Also submitted to Technometrics).\\n\\n    The data was used with many others for comparing various\\n    classifiers. The classes are separable, though only RDA\\n    has achieved 100% correct classification.\\n    (RDA : 100%, QDA 99.4%, LDA 98.9%, 1NN 96.1% (z-transformed data))\\n    (All results using the leave-one-out technique)\\n\\n    (2) S. Aeberhard, D. Coomans and O. de Vel,\\n    \"THE CLASSIFICATION PERFORMANCE OF RDA\"\\n    Tech. Rep. no. 92-01, (1992), Dept. of Computer Science and Dept. of\\n    Mathematics and Statistics, James Cook University of North Queensland.\\n    (Also submitted to Journal of Chemometrics).\\n',\n",
              " 'feature_names': ['alcohol',\n",
              "  'malic_acid',\n",
              "  'ash',\n",
              "  'alcalinity_of_ash',\n",
              "  'magnesium',\n",
              "  'total_phenols',\n",
              "  'flavanoids',\n",
              "  'nonflavanoid_phenols',\n",
              "  'proanthocyanins',\n",
              "  'color_intensity',\n",
              "  'hue',\n",
              "  'od280/od315_of_diluted_wines',\n",
              "  'proline']}"
            ]
          },
          "metadata": {},
          "execution_count": 18
        }
      ]
    },
    {
      "cell_type": "code",
      "source": [
        "oned_array = np.array(range(0,10))\n",
        "oned_array\n",
        "\n",
        "\n",
        "\n",
        "\n",
        "\n"
      ],
      "metadata": {
        "colab": {
          "base_uri": "https://localhost:8080/"
        },
        "id": "S4r1ert-ARi9",
        "outputId": "6023088e-4c26-4df6-9661-84275b99037e"
      },
      "execution_count": null,
      "outputs": [
        {
          "output_type": "execute_result",
          "data": {
            "text/plain": [
              "array([0, 1, 2, 3, 4, 5, 6, 7, 8, 9])"
            ]
          },
          "metadata": {},
          "execution_count": 20
        }
      ]
    },
    {
      "cell_type": "code",
      "source": [
        "oned_array[5]"
      ],
      "metadata": {
        "colab": {
          "base_uri": "https://localhost:8080/"
        },
        "id": "xhIkea1FAouZ",
        "outputId": "ae76f0ef-d48d-4f25-a013-ca731a9de0ec"
      },
      "execution_count": null,
      "outputs": [
        {
          "output_type": "execute_result",
          "data": {
            "text/plain": [
              "5"
            ]
          },
          "metadata": {},
          "execution_count": 21
        }
      ]
    },
    {
      "cell_type": "code",
      "source": [
        "another_array = np.array([[1,2],[3,4]])\n",
        "\n",
        "another_array[1][0]"
      ],
      "metadata": {
        "colab": {
          "base_uri": "https://localhost:8080/"
        },
        "id": "_dMlD8eZAtv_",
        "outputId": "2642f3e3-6aa2-42df-c86d-1807ca965c29"
      },
      "execution_count": null,
      "outputs": [
        {
          "output_type": "execute_result",
          "data": {
            "text/plain": [
              "3"
            ]
          },
          "metadata": {},
          "execution_count": 22
        }
      ]
    },
    {
      "cell_type": "code",
      "source": [
        "another_array[1]"
      ],
      "metadata": {
        "colab": {
          "base_uri": "https://localhost:8080/"
        },
        "id": "e7xjpubYA7DC",
        "outputId": "d83d076d-3fe2-4451-d2a6-2f3bb822cc3e"
      },
      "execution_count": null,
      "outputs": [
        {
          "output_type": "execute_result",
          "data": {
            "text/plain": [
              "array([3, 4])"
            ]
          },
          "metadata": {},
          "execution_count": 23
        }
      ]
    },
    {
      "cell_type": "code",
      "source": [
        "another_array.shape"
      ],
      "metadata": {
        "colab": {
          "base_uri": "https://localhost:8080/"
        },
        "id": "aajuI-VABAvz",
        "outputId": "1bd4c280-e18a-4204-d3c0-8ead9e5bba97"
      },
      "execution_count": null,
      "outputs": [
        {
          "output_type": "execute_result",
          "data": {
            "text/plain": [
              "(2, 2)"
            ]
          },
          "metadata": {},
          "execution_count": 24
        }
      ]
    },
    {
      "cell_type": "code",
      "source": [
        "another_array[1:,1:]"
      ],
      "metadata": {
        "colab": {
          "base_uri": "https://localhost:8080/"
        },
        "id": "7fGTYMikBFP_",
        "outputId": "b00675e2-8175-410d-f1be-a938e003f3ed"
      },
      "execution_count": null,
      "outputs": [
        {
          "output_type": "execute_result",
          "data": {
            "text/plain": [
              "array([[4]])"
            ]
          },
          "metadata": {},
          "execution_count": 25
        }
      ]
    },
    {
      "cell_type": "code",
      "source": [
        "twod_array = np.array([[1,2,3,4],[5,6,7,8]])\n",
        "\n",
        "twod_array.shape"
      ],
      "metadata": {
        "colab": {
          "base_uri": "https://localhost:8080/"
        },
        "id": "UEcQF3D6BKp_",
        "outputId": "8f163f99-dad7-4823-ab44-d4e6c8f3f5e8"
      },
      "execution_count": null,
      "outputs": [
        {
          "output_type": "execute_result",
          "data": {
            "text/plain": [
              "(2, 4)"
            ]
          },
          "metadata": {},
          "execution_count": 26
        }
      ]
    },
    {
      "cell_type": "code",
      "source": [
        "import numpy as np\n",
        "import matplotlib.pyplot as plt\n",
        "\n",
        "# Define the dimension of the image\n",
        "height = 100 # Height of the image\n",
        "width = 100  # Width of the image\n",
        "\n",
        "# Create a random colored image\n",
        "random_image = np.random.randint(0, 256, (height, width, 3), dtype=np.uint8)\n",
        "\n",
        "# Print the matrix representing the image\n",
        "print(\"Matrix representing the random colored image:\")\n",
        "print(random_image)\n",
        "\n",
        "# Display the image\n",
        "plt.imshow(random_image)\n",
        "plt.title('Random Colored Image')\n",
        "plt.axis('off') # Hide the axes\n",
        "plt.show()"
      ],
      "metadata": {
        "colab": {
          "base_uri": "https://localhost:8080/",
          "height": 1000
        },
        "id": "kXUo8gLeBZHR",
        "outputId": "c270b2a3-064e-4b0b-ffb3-0f027c203e11"
      },
      "execution_count": null,
      "outputs": [
        {
          "output_type": "stream",
          "name": "stdout",
          "text": [
            "Matrix representing the random colored image:\n",
            "[[[ 77  79  30]\n",
            "  [123  29  16]\n",
            "  [250  74 122]\n",
            "  ...\n",
            "  [243  68 182]\n",
            "  [117  67 102]\n",
            "  [ 39  51  97]]\n",
            "\n",
            " [[129 222  78]\n",
            "  [198 179  74]\n",
            "  [ 52 155  41]\n",
            "  ...\n",
            "  [ 24   1   8]\n",
            "  [162  16  72]\n",
            "  [ 22 131  89]]\n",
            "\n",
            " [[  0  38 222]\n",
            "  [ 15  57 209]\n",
            "  [ 18  73 161]\n",
            "  ...\n",
            "  [186  68  95]\n",
            "  [ 49 174 207]\n",
            "  [177  54 168]]\n",
            "\n",
            " ...\n",
            "\n",
            " [[171 204 146]\n",
            "  [192  62  10]\n",
            "  [206 148 216]\n",
            "  ...\n",
            "  [ 14 136  25]\n",
            "  [ 38 250  98]\n",
            "  [  4 209 187]]\n",
            "\n",
            " [[202 158 203]\n",
            "  [  0  40 224]\n",
            "  [242 190   5]\n",
            "  ...\n",
            "  [191 117   7]\n",
            "  [ 61 133  75]\n",
            "  [ 23  79 244]]\n",
            "\n",
            " [[223 117  55]\n",
            "  [ 25  18  37]\n",
            "  [186  27  82]\n",
            "  ...\n",
            "  [157 113  61]\n",
            "  [212  59 248]\n",
            "  [238 118 236]]]\n"
          ]
        },
        {
          "output_type": "display_data",
          "data": {
            "text/plain": [
              "<Figure size 640x480 with 1 Axes>"
            ],
            "image/png": "[encoded data removed]"
          },
          "metadata": {}
        }
      ]
    },
    {
      "cell_type": "code",
      "source": [
        "plt.imshow(random_image[:2,:2,:3])"
      ],
      "metadata": {
        "colab": {
          "base_uri": "https://localhost:8080/",
          "height": 452
        },
        "id": "sx2jFQPgC-9q",
        "outputId": "73328385-d0a6-475a-a33e-bccc2f4279c3"
      },
      "execution_count": null,
      "outputs": [
        {
          "output_type": "execute_result",
          "data": {
            "text/plain": [
              "<matplotlib.image.AxesImage at 0x7cd443409d10>"
            ]
          },
          "metadata": {},
          "execution_count": 29
        },
        {
          "output_type": "display_data",
          "data": {
            "text/plain": [
              "<Figure size 640x480 with 1 Axes>"
            ],
            "image/png": "[encoded data removed]"
          },
          "metadata": {}
        }
      ]
    },
    {
      "cell_type": "code",
      "source": [
        "# Create a three-dimensional array\n",
        "threeD_array = np.array([[[1,2,3,4],[5,6,7,8]],[[9,10,11,12],[13,14,15,16]]])\n",
        "print(threeD_array)\n",
        "print(threeD_array.shape)"
      ],
      "metadata": {
        "colab": {
          "base_uri": "https://localhost:8080/"
        },
        "id": "LKx95JzmDK5q",
        "outputId": "7a66ed81-4c18-4819-92aa-496ea22ed9fb"
      },
      "execution_count": null,
      "outputs": [
        {
          "output_type": "stream",
          "name": "stdout",
          "text": [
            "[[[ 1  2  3  4]\n",
            "  [ 5  6  7  8]]\n",
            "\n",
            " [[ 9 10 11 12]\n",
            "  [13 14 15 16]]]\n",
            "(2, 2, 4)\n"
          ]
        }
      ]
    },
    {
      "cell_type": "code",
      "source": [
        "matrix = np.random.randint(0, 1, (50, 50), dtype=np.uint8) #uint8) #uniform distribution\n",
        "matrix"
      ],
      "metadata": {
        "colab": {
          "base_uri": "https://localhost:8080/",
          "height": 90
        },
        "id": "Uy_X6ZlnD2M6",
        "outputId": "714c8ece-e282-4757-9b31-b6070a4c5c34"
      },
      "execution_count": null,
      "outputs": [
        {
          "output_type": "execute_result",
          "data": {
            "text/plain": [
              "array([[0, 0, 0, ..., 0, 0, 0],\n",
              "       [0, 0, 0, ..., 0, 0, 0],\n",
              "       [0, 0, 0, ..., 0, 0, 0],\n",
              "       ...,\n",
              "       [0, 0, 0, ..., 0, 0, 0],\n",
              "       [0, 0, 0, ..., 0, 0, 0],\n",
              "       [0, 0, 0, ..., 0, 0, 0]], dtype=uint8)"
            ],
            "text/html": [
              "<style>\n",
              "      .ndarray_repr .ndarray_raw_data {\n",
              "        display: none;\n",
              "      }\n",
              "      .ndarray_repr.show_array .ndarray_raw_data {\n",
              "        display: block;\n",
              "      }\n",
              "      .ndarray_repr.show_array .ndarray_image_preview {\n",
              "        display: none;\n",
              "      }\n",
              "      </style>\n",
              "      <div id=\"id-c5bea806-18c7-450b-9041-540c01fe897c\" class=\"ndarray_repr\"><pre>ndarray (50, 50) <button style=\"padding: 0 2px;\">show data</button></pre><img src=\"data:image/png;base64,iVBORw0KGgoAAAANSUhEUgAAADIAAAAyCAAAAAA7VNdtAAAAGUlEQVR4nO3BAQ0AAADCoPdPbQ8HFAAA/wYJ9gAByjRWDQAAAABJRU5ErkJggg==\" class=\"ndarray_image_preview\" /><pre class=\"ndarray_raw_data\">array([[0, 0, 0, ..., 0, 0, 0],\n",
              "       [0, 0, 0, ..., 0, 0, 0],\n",
              "       [0, 0, 0, ..., 0, 0, 0],\n",
              "       ...,\n",
              "       [0, 0, 0, ..., 0, 0, 0],\n",
              "       [0, 0, 0, ..., 0, 0, 0],\n",
              "       [0, 0, 0, ..., 0, 0, 0]], dtype=uint8)</pre></div><script>\n",
              "      (() => {\n",
              "      const titles = ['show data', 'hide data'];\n",
              "      let index = 0\n",
              "      document.querySelector('#id-c5bea806-18c7-450b-9041-540c01fe897c button').onclick = (e) => {\n",
              "        document.querySelector('#id-c5bea806-18c7-450b-9041-540c01fe897c').classList.toggle('show_array');\n",
              "        index = (++index) % 2;\n",
              "        document.querySelector('#id-c5bea806-18c7-450b-9041-540c01fe897c button').textContent = titles[index];\n",
              "        e.preventDefault();\n",
              "        e.stopPropagation();\n",
              "      }\n",
              "      })();\n",
              "    </script>"
            ]
          },
          "metadata": {},
          "execution_count": 31
        }
      ]
    },
    {
      "cell_type": "code",
      "source": [
        "plt.imshow(matrix[:,])\n",
        "plt.axis('off') # Turn off axis labels\n",
        "plt.show()"
      ],
      "metadata": {
        "colab": {
          "base_uri": "https://localhost:8080/",
          "height": 406
        },
        "id": "1-TqblD7EOGL",
        "outputId": "3319f643-bf2a-4fe5-de5b-92bde16f1994"
      },
      "execution_count": null,
      "outputs": [
        {
          "output_type": "display_data",
          "data": {
            "text/plain": [
              "<Figure size 640x480 with 1 Axes>"
            ],
            "image/png": "[encoded data removed]"
          },
          "metadata": {}
        }
      ]
    },
    {
      "cell_type": "code",
      "source": [
        "matrix.shape"
      ],
      "metadata": {
        "colab": {
          "base_uri": "https://localhost:8080/"
        },
        "id": "zAIpZJkFEdmt",
        "outputId": "6363f996-4ce7-498c-f1a8-b37522f0b834"
      },
      "execution_count": null,
      "outputs": [
        {
          "output_type": "execute_result",
          "data": {
            "text/plain": [
              "(50, 50)"
            ]
          },
          "metadata": {},
          "execution_count": 33
        }
      ]
    },
    {
      "cell_type": "code",
      "source": [
        "matrix"
      ],
      "metadata": {
        "colab": {
          "base_uri": "https://localhost:8080/",
          "height": 158
        },
        "id": "-DaLPtxpEhDL",
        "outputId": "9180a375-299e-4f04-e324-598715f742c8"
      },
      "execution_count": null,
      "outputs": [
        {
          "output_type": "execute_result",
          "data": {
            "text/plain": [
              "array([[0, 0, 0, ..., 0, 0, 0],\n",
              "       [0, 0, 0, ..., 0, 0, 0],\n",
              "       [0, 0, 0, ..., 0, 0, 0],\n",
              "       ...,\n",
              "       [0, 0, 0, ..., 0, 0, 0],\n",
              "       [0, 0, 0, ..., 0, 0, 0],\n",
              "       [0, 0, 0, ..., 0, 0, 0]], dtype=uint8)"
            ],
            "text/html": [
              "<style>\n",
              "      .ndarray_repr .ndarray_raw_data {\n",
              "        display: none;\n",
              "      }\n",
              "      .ndarray_repr.show_array .ndarray_raw_data {\n",
              "        display: block;\n",
              "      }\n",
              "      .ndarray_repr.show_array .ndarray_image_preview {\n",
              "        display: none;\n",
              "      }\n",
              "      </style>\n",
              "      <div id=\"id-2cb3282d-d389-47cb-bb53-87a7a798f00e\" class=\"ndarray_repr\"><pre>ndarray (50, 50) <button style=\"padding: 0 2px;\">show data</button></pre><img src=\"data:image/png;base64,iVBORw0KGgoAAAANSUhEUgAAADIAAAAyCAAAAAA7VNdtAAAAGUlEQVR4nO3BAQ0AAADCoPdPbQ8HFAAA/wYJ9gAByjRWDQAAAABJRU5ErkJggg==\" class=\"ndarray_image_preview\" /><pre class=\"ndarray_raw_data\">array([[0, 0, 0, ..., 0, 0, 0],\n",
              "       [0, 0, 0, ..., 0, 0, 0],\n",
              "       [0, 0, 0, ..., 0, 0, 0],\n",
              "       ...,\n",
              "       [0, 0, 0, ..., 0, 0, 0],\n",
              "       [0, 0, 0, ..., 0, 0, 0],\n",
              "       [0, 0, 0, ..., 0, 0, 0]], dtype=uint8)</pre></div><script>\n",
              "      (() => {\n",
              "      const titles = ['show data', 'hide data'];\n",
              "      let index = 0\n",
              "      document.querySelector('#id-2cb3282d-d389-47cb-bb53-87a7a798f00e button').onclick = (e) => {\n",
              "        document.querySelector('#id-2cb3282d-d389-47cb-bb53-87a7a798f00e').classList.toggle('show_array');\n",
              "        index = (++index) % 2;\n",
              "        document.querySelector('#id-2cb3282d-d389-47cb-bb53-87a7a798f00e button').textContent = titles[index];\n",
              "        e.preventDefault();\n",
              "        e.stopPropagation();\n",
              "      }\n",
              "      })();\n",
              "    </script>"
            ]
          },
          "metadata": {},
          "execution_count": 34
        }
      ]
    },
    {
      "cell_type": "code",
      "source": [
        "import numpy as np\n",
        "import matplotlib.pyplot as plt\n",
        "\n",
        "# Define dimensions of the image\n",
        "width = 100\n",
        "height = 100\n",
        "\n",
        "# Create a 2D Numpy array filled with zeros (black pixels)\n",
        "black_image = np.random.binomial(2,0.5,(height, width))\n",
        "\n",
        "# Display the black image\n",
        "plt.imshow(black_image, cmap='gray')\n",
        "plt.axis('off') # Turn off axis labels\n",
        "plt.show()"
      ],
      "metadata": {
        "colab": {
          "base_uri": "https://localhost:8080/",
          "height": 406
        },
        "id": "Bnnjo2e8Eixi",
        "outputId": "477af986-4e4b-4ee7-a122-98f8b60a7d36"
      },
      "execution_count": null,
      "outputs": [
        {
          "output_type": "display_data",
          "data": {
            "text/plain": [
              "<Figure size 640x480 with 1 Axes>"
            ],
            "image/png": "[encoded data removed]"
          },
          "metadata": {}
        }
      ]
    },
    {
      "cell_type": "code",
      "source": [
        "import numpy as np\n",
        "import matplotlib.pyplot as plt\n",
        "\n",
        "# Define dimensions of the matrix\n",
        "width = 5\n",
        "height = 5\n",
        "\n",
        "# Generate a 3D matrix of random numbers\n",
        "matrix = np.random.randint(250,255,(height, width), dtype=np.uint8)\n",
        "\n",
        "# Display the image\n",
        "plt.imshow(matrix[:,])\n",
        "plt.axis('off') # Turn off axis labels\n",
        "plt.show()"
      ],
      "metadata": {
        "colab": {
          "base_uri": "https://localhost:8080/",
          "height": 406
        },
        "id": "HN9IZdyFG8xV",
        "outputId": "e15d2c06-6d64-452a-ea1c-ad613db2bb8d"
      },
      "execution_count": null,
      "outputs": [
        {
          "output_type": "display_data",
          "data": {
            "text/plain": [
              "<Figure size 640x480 with 1 Axes>"
            ],
            "image/png": "[encoded data removed]"
          },
          "metadata": {}
        }
      ]
    },
    {
      "cell_type": "code",
      "source": [
        "matrix"
      ],
      "metadata": {
        "colab": {
          "base_uri": "https://localhost:8080/"
        },
        "id": "Yqof4sopIAnh",
        "outputId": "13d4e4b9-dfa2-43ba-e14d-cfa5af0a3ca8"
      },
      "execution_count": null,
      "outputs": [
        {
          "output_type": "execute_result",
          "data": {
            "text/plain": [
              "array([[251, 253, 251, 250, 251],\n",
              "       [250, 251, 251, 251, 250],\n",
              "       [253, 254, 250, 250, 250],\n",
              "       [252, 252, 252, 253, 254],\n",
              "       [250, 251, 250, 254, 252]], dtype=uint8)"
            ]
          },
          "metadata": {},
          "execution_count": 37
        }
      ]
    },
    {
      "cell_type": "code",
      "source": [
        "matrix.shape"
      ],
      "metadata": {
        "colab": {
          "base_uri": "https://localhost:8080/"
        },
        "id": "qZNLeVwLIEnn",
        "outputId": "f415898e-f6ed-4660-e30c-0675bdf896af"
      },
      "execution_count": null,
      "outputs": [
        {
          "output_type": "execute_result",
          "data": {
            "text/plain": [
              "(5, 5)"
            ]
          },
          "metadata": {},
          "execution_count": 38
        }
      ]
    },
    {
      "cell_type": "code",
      "source": [
        "matrix.size"
      ],
      "metadata": {
        "colab": {
          "base_uri": "https://localhost:8080/"
        },
        "id": "O-TNeqSSIHlE",
        "outputId": "e6b06980-05d2-448b-af7f-a5d1639019e9"
      },
      "execution_count": null,
      "outputs": [
        {
          "output_type": "execute_result",
          "data": {
            "text/plain": [
              "25"
            ]
          },
          "metadata": {},
          "execution_count": 39
        }
      ]
    },
    {
      "cell_type": "code",
      "source": [
        "matrix[1:5,1:5,]"
      ],
      "metadata": {
        "colab": {
          "base_uri": "https://localhost:8080/"
        },
        "id": "rAnpL6U8ILfx",
        "outputId": "2851196f-f493-46b9-872d-3186181b4b3d"
      },
      "execution_count": null,
      "outputs": [
        {
          "output_type": "execute_result",
          "data": {
            "text/plain": [
              "array([[251, 251, 251, 250],\n",
              "       [254, 250, 250, 250],\n",
              "       [252, 252, 253, 254],\n",
              "       [251, 250, 254, 252]], dtype=uint8)"
            ]
          },
          "metadata": {},
          "execution_count": 41
        }
      ]
    },
    {
      "cell_type": "code",
      "source": [
        "image.show()\n",
        "\n",
        "\n",
        "matrix_shape"
      ],
      "metadata": {
        "colab": {
          "base_uri": "https://localhost:8080/",
          "height": 193
        },
        "id": "3zxHatLPISfl",
        "outputId": "b629a6f6-1b3a-408b-ded0-51184bb346e2"
      },
      "execution_count": null,
      "outputs": [
        {
          "output_type": "error",
          "ename": "NameError",
          "evalue": "name 'image' is not defined",
          "traceback": [
            "\u001b[0;31m---------------------------------------------------------------------------\u001b[0m",
            "\u001b[0;31mNameError\u001b[0m                                 Traceback (most recent call last)",
            "\u001b[0;32m<ipython-input-45-fa82ff8cfae9>\u001b[0m in \u001b[0;36m<cell line: 0>\u001b[0;34m()\u001b[0m\n\u001b[0;32m----> 1\u001b[0;31m \u001b[0mimage\u001b[0m\u001b[0;34m.\u001b[0m\u001b[0mshow\u001b[0m\u001b[0;34m(\u001b[0m\u001b[0;34m)\u001b[0m\u001b[0;34m\u001b[0m\u001b[0;34m\u001b[0m\u001b[0m\n\u001b[0m\u001b[1;32m      2\u001b[0m \u001b[0;34m\u001b[0m\u001b[0m\n\u001b[1;32m      3\u001b[0m \u001b[0;34m\u001b[0m\u001b[0m\n\u001b[1;32m      4\u001b[0m \u001b[0mmatrix_shape\u001b[0m\u001b[0;34m\u001b[0m\u001b[0;34m\u001b[0m\u001b[0m\n",
            "\u001b[0;31mNameError\u001b[0m: name 'image' is not defined"
          ]
        }
      ]
    },
    {
      "cell_type": "code",
      "source": [
        "alma_array = np.array([[1,2,3],[4,5,6]])\n",
        "print(alma_array.shape)"
      ],
      "metadata": {
        "colab": {
          "base_uri": "https://localhost:8080/"
        },
        "id": "ciGF3dzSJF3G",
        "outputId": "9e06d871-e80a-41b1-9edc-dbbb846628f8"
      },
      "execution_count": null,
      "outputs": [
        {
          "output_type": "stream",
          "name": "stdout",
          "text": [
            "(2, 3)\n"
          ]
        }
      ]
    },
    {
      "cell_type": "code",
      "source": [
        "alma_array.ndim"
      ],
      "metadata": {
        "colab": {
          "base_uri": "https://localhost:8080/"
        },
        "id": "VFA_ZAI3JT-n",
        "outputId": "83ae6ea5-b2e4-4a61-a9df-e3b0ff77cd1f"
      },
      "execution_count": null,
      "outputs": [
        {
          "output_type": "execute_result",
          "data": {
            "text/plain": [
              "2"
            ]
          },
          "metadata": {},
          "execution_count": 47
        }
      ]
    },
    {
      "cell_type": "code",
      "source": [
        "alma_array = np.array([[1,2,3,4],[4,5,9,10]])\n",
        "print(alma_array.shape)"
      ],
      "metadata": {
        "colab": {
          "base_uri": "https://localhost:8080/"
        },
        "id": "f37j9hpyJYYF",
        "outputId": "afd0bce2-0ceb-403e-825d-49fd062e4e75"
      },
      "execution_count": null,
      "outputs": [
        {
          "output_type": "stream",
          "name": "stdout",
          "text": [
            "(2, 4)\n"
          ]
        }
      ]
    },
    {
      "cell_type": "code",
      "source": [
        "alma_array = np.array([[[1,2,3],[4,5,6]],[[1,2,3],[4,5,6]],[[1,2,3],[4,5,6]],[[1,2,3],[4,5,6]]])\n",
        "# prin(alma_array)\n",
        "print(alma_array.shape)"
      ],
      "metadata": {
        "colab": {
          "base_uri": "https://localhost:8080/"
        },
        "id": "Spc21A7cJo6z",
        "outputId": "c712afc3-e388-4989-8eeb-f1652295f525"
      },
      "execution_count": null,
      "outputs": [
        {
          "output_type": "stream",
          "name": "stdout",
          "text": [
            "(4, 2, 3)\n"
          ]
        }
      ]
    },
    {
      "cell_type": "code",
      "source": [
        "alma_array"
      ],
      "metadata": {
        "colab": {
          "base_uri": "https://localhost:8080/"
        },
        "id": "NSpyPUALKToJ",
        "outputId": "31b9433a-bac9-45f3-f5aa-c349f952fc1d"
      },
      "execution_count": null,
      "outputs": [
        {
          "output_type": "execute_result",
          "data": {
            "text/plain": [
              "array([[[1, 2, 3],\n",
              "        [4, 5, 6]],\n",
              "\n",
              "       [[1, 2, 3],\n",
              "        [4, 5, 6]],\n",
              "\n",
              "       [[1, 2, 3],\n",
              "        [4, 5, 6]],\n",
              "\n",
              "       [[1, 2, 3],\n",
              "        [4, 5, 6]]])"
            ]
          },
          "metadata": {},
          "execution_count": 50
        }
      ]
    },
    {
      "cell_type": "code",
      "source": [
        "sample_2d_array = np.array([[1,2,3],[4,5,6]])\n",
        "print(\"Dimensions of 'sample_2d_array' = \", sample_2d_array.ndim)"
      ],
      "metadata": {
        "colab": {
          "base_uri": "https://localhost:8080/"
        },
        "id": "9P678_D-KfF4",
        "outputId": "e64bc894-e615-42a8-9cc4-6d16cfe603cc"
      },
      "execution_count": null,
      "outputs": [
        {
          "output_type": "stream",
          "name": "stdout",
          "text": [
            "Dimensions of 'sample_2d_array' =  2\n"
          ]
        }
      ]
    },
    {
      "cell_type": "code",
      "source": [
        "# Print the dtype of array\n",
        "my_array = np.array([1,2,3,4])\n",
        "print(my_array.dtype)"
      ],
      "metadata": {
        "colab": {
          "base_uri": "https://localhost:8080/"
        },
        "id": "wt-rXzirK6z9",
        "outputId": "8cfcb927-4e4f-411a-cd18-6b2a70b1d163"
      },
      "execution_count": null,
      "outputs": [
        {
          "output_type": "stream",
          "name": "stdout",
          "text": [
            "int64\n"
          ]
        }
      ]
    },
    {
      "cell_type": "code",
      "source": [
        "my_list = [1,2,3,4,5,'abc']\n",
        "my_list"
      ],
      "metadata": {
        "colab": {
          "base_uri": "https://localhost:8080/"
        },
        "id": "raa63DF8LRZt",
        "outputId": "23bb8086-3e40-437b-8cf8-a131d28728b8"
      },
      "execution_count": null,
      "outputs": [
        {
          "output_type": "execute_result",
          "data": {
            "text/plain": [
              "[1, 2, 3, 4, 5, 'abc']"
            ]
          },
          "metadata": {},
          "execution_count": 53
        }
      ]
    },
    {
      "cell_type": "code",
      "source": [
        "# Print the dtype of another array\n",
        "my_array = np.array([1,2,3,4,5,5.678,-6])\n",
        "print(my_array.dtype)"
      ],
      "metadata": {
        "colab": {
          "base_uri": "https://localhost:8080/"
        },
        "id": "IZq_2e_kLbrf",
        "outputId": "01c6d4e1-aaff-4feb-cda9-b59f778346eb"
      },
      "execution_count": null,
      "outputs": [
        {
          "output_type": "stream",
          "name": "stdout",
          "text": [
            "float64\n"
          ]
        }
      ]
    },
    {
      "cell_type": "code",
      "source": [
        "my_array = np.array(['abd','bcd','abc'])\n",
        "print(my_array.dtype)"
      ],
      "metadata": {
        "colab": {
          "base_uri": "https://localhost:8080/"
        },
        "id": "OxBztz_sMsQl",
        "outputId": "7275e796-8c1e-43cb-bd51-e3c1209e4afa"
      },
      "execution_count": null,
      "outputs": [
        {
          "output_type": "stream",
          "name": "stdout",
          "text": [
            "<U3\n"
          ]
        }
      ]
    },
    {
      "cell_type": "code",
      "source": [
        "my_array"
      ],
      "metadata": {
        "colab": {
          "base_uri": "https://localhost:8080/"
        },
        "id": "6pWG6gsrM5w1",
        "outputId": "e9314e9d-7c6c-485b-98f0-edffcb5de60f"
      },
      "execution_count": null,
      "outputs": [
        {
          "output_type": "execute_result",
          "data": {
            "text/plain": [
              "array(['abd', 'bcd', 'abc'], dtype='<U3')"
            ]
          },
          "metadata": {},
          "execution_count": 56
        }
      ]
    },
    {
      "cell_type": "code",
      "source": [
        "# Create an array\n",
        "arravali = np.array([2,3,4])\n",
        "print(arravali)\n",
        "print(arravali)\n",
        "\n",
        "# Change the datatype of the array to float\n",
        "arravali = arravali.astype('float64')\n",
        "print(arravali)\n",
        "print(arravali.dtype)\n",
        "\n",
        "# Change the datatype of the array to string\n",
        "# arravali_ = arravali.astype('string_')\n",
        "# print(arravali_)\n",
        "# print(arravali_.dtype)"
      ],
      "metadata": {
        "colab": {
          "base_uri": "https://localhost:8080/"
        },
        "id": "o1jQfAEONE6A",
        "outputId": "261e35b7-9962-4f25-ad6e-6d90638413c7"
      },
      "execution_count": null,
      "outputs": [
        {
          "output_type": "stream",
          "name": "stdout",
          "text": [
            "[2 3 4]\n",
            "[2 3 4]\n",
            "[2. 3. 4.]\n",
            "float64\n"
          ]
        }
      ]
    },
    {
      "cell_type": "code",
      "source": [
        "import numpy as np\n",
        "import sys\n",
        "\n",
        "# declaring a list of 10 elements\n",
        "S = [0,1,2,3,4,5,6,7,8,9]\n",
        "print(\"Size of each element of list in bytes: \",sys.getsizeof(S))\n",
        "print(\"Size of the whole list in bytes: \",sys.getsizeof(S)*len(S))\n",
        "\n",
        "# declaring a Numpy array of 10 elements\n",
        "D= np.array([0,1,2,3,4,5,6,7,8,9] )\n",
        "print(\"Size of each element of the Numpy array in bytes: \",D.itemsize)\n",
        "print(\"Size of the whole Numpy array in bytes: \",D.size*D.itemsize)"
      ],
      "metadata": {
        "colab": {
          "base_uri": "https://localhost:8080/"
        },
        "id": "Aa6B_t8XOlt9",
        "outputId": "a198162f-c48e-4a4a-bbc7-9c6f17fff127"
      },
      "execution_count": null,
      "outputs": [
        {
          "output_type": "stream",
          "name": "stdout",
          "text": [
            "Size of each element of list in bytes:  136\n",
            "Size of the whole list in bytes:  1360\n",
            "Size of each element of the Numpy array in bytes:  8\n",
            "Size of the whole Numpy array in bytes:  80\n"
          ]
        }
      ]
    },
    {
      "cell_type": "code",
      "source": [
        "1360/80"
      ],
      "metadata": {
        "colab": {
          "base_uri": "https://localhost:8080/"
        },
        "id": "xMH6tf5GQX63",
        "outputId": "0ca283e5-844d-465c-d5b6-8fbeb23f1a26"
      },
      "execution_count": null,
      "outputs": [
        {
          "output_type": "execute_result",
          "data": {
            "text/plain": [
              "17.0"
            ]
          },
          "metadata": {},
          "execution_count": 63
        }
      ]
    },
    {
      "cell_type": "code",
      "source": [
        "[(a * b) for a, b in zip([1,2,3], [4,5,6])]\n"
      ],
      "metadata": {
        "colab": {
          "base_uri": "https://localhost:8080/"
        },
        "id": "Ex56p5z7QcPe",
        "outputId": "6c95fa46-8b52-4bd0-88a0-4f0648d27572"
      },
      "execution_count": null,
      "outputs": [
        {
          "output_type": "execute_result",
          "data": {
            "text/plain": [
              "[4, 10, 18]"
            ]
          },
          "metadata": {},
          "execution_count": 64
        }
      ]
    },
    {
      "cell_type": "code",
      "source": [
        "5.19/0.26"
      ],
      "metadata": {
        "colab": {
          "base_uri": "https://localhost:8080/"
        },
        "id": "euiLAIJeRdLC",
        "outputId": "7f7057c2-b776-4bd4-8db6-fb65773c6d61"
      },
      "execution_count": null,
      "outputs": [
        {
          "output_type": "execute_result",
          "data": {
            "text/plain": [
              "19.961538461538463"
            ]
          },
          "metadata": {},
          "execution_count": 66
        }
      ]
    },
    {
      "cell_type": "code",
      "source": [
        "words = ['dentist','harbour','apple','jelly','example']\n",
        "\n",
        "# capturing time before the multiplication of Numpy arrays\n",
        "initialtime = time.time()\n",
        "\n",
        "# multiplying elements of both the Numpy arrays and stored in another Numpy array\n",
        "resultantArray = [word for word in words if len(word)>5]\n",
        "\n",
        "# calculating execution time\n",
        "print(\"Time taken to above operation\",\n",
        "      (time.time() - initialTime)*1000,\n",
        "      \"milliseconds\")"
      ],
      "metadata": {
        "colab": {
          "base_uri": "https://localhost:8080/",
          "height": 211
        },
        "id": "zNq6oPWyRkhd",
        "outputId": "93d13945-8809-4a1d-9332-6342912e91f3"
      },
      "execution_count": null,
      "outputs": [
        {
          "output_type": "error",
          "ename": "NameError",
          "evalue": "name 'time' is not defined",
          "traceback": [
            "\u001b[0;31m---------------------------------------------------------------------------\u001b[0m",
            "\u001b[0;31mNameError\u001b[0m                                 Traceback (most recent call last)",
            "\u001b[0;32m<ipython-input-72-07c85b02188f>\u001b[0m in \u001b[0;36m<cell line: 0>\u001b[0;34m()\u001b[0m\n\u001b[1;32m      2\u001b[0m \u001b[0;34m\u001b[0m\u001b[0m\n\u001b[1;32m      3\u001b[0m \u001b[0;31m# capturing time before the multiplication of Numpy arrays\u001b[0m\u001b[0;34m\u001b[0m\u001b[0;34m\u001b[0m\u001b[0m\n\u001b[0;32m----> 4\u001b[0;31m \u001b[0minitialtime\u001b[0m \u001b[0;34m=\u001b[0m \u001b[0mtime\u001b[0m\u001b[0;34m.\u001b[0m\u001b[0mtime\u001b[0m\u001b[0;34m(\u001b[0m\u001b[0;34m)\u001b[0m\u001b[0;34m\u001b[0m\u001b[0;34m\u001b[0m\u001b[0m\n\u001b[0m\u001b[1;32m      5\u001b[0m \u001b[0;34m\u001b[0m\u001b[0m\n\u001b[1;32m      6\u001b[0m \u001b[0;31m# multiplying elements of both the Numpy arrays and stored in another Numpy array\u001b[0m\u001b[0;34m\u001b[0m\u001b[0;34m\u001b[0m\u001b[0m\n",
            "\u001b[0;31mNameError\u001b[0m: name 'time' is not defined"
          ]
        }
      ]
    },
    {
      "cell_type": "code",
      "source": [
        "# Creating an uninitialized array of a specified shape\n",
        "uninitialized_array = np.empty([5,3],dtype=int)\n",
        "print(uninitialized_array)"
      ],
      "metadata": {
        "colab": {
          "base_uri": "https://localhost:8080/"
        },
        "id": "EvPPUhvLUNXx",
        "outputId": "b090dd2f-5612-489d-8b81-553e71888724"
      },
      "execution_count": null,
      "outputs": [
        {
          "output_type": "stream",
          "name": "stdout",
          "text": [
            "[[ 2857 15741  1080]\n",
            " [19344  5778  5778]\n",
            " [19344  1080 15741]\n",
            " [ 2857     0     0]\n",
            " [    0     0     0]]\n"
          ]
        }
      ]
    },
    {
      "cell_type": "code",
      "source": [
        "# Initializing the array with zeros\n",
        "zeros_array = np.zeros((3,4)) # Default dtype = float\n",
        "another_zeros_array = np.zeros((4,3) , dtype=int)\n",
        "print(zeros_array)\n",
        "print(another_zeros_array)"
      ],
      "metadata": {
        "colab": {
          "base_uri": "https://localhost:8080/"
        },
        "id": "kwEk2m8jUrf6",
        "outputId": "18efc634-b1c0-4735-a723-97060da616e6"
      },
      "execution_count": null,
      "outputs": [
        {
          "output_type": "stream",
          "name": "stdout",
          "text": [
            "[[0. 0. 0. 0.]\n",
            " [0. 0. 0. 0.]\n",
            " [0. 0. 0. 0.]]\n",
            "[[0 0 0]\n",
            " [0 0 0]\n",
            " [0 0 0]\n",
            " [0 0 0]]\n"
          ]
        }
      ]
    },
    {
      "cell_type": "code",
      "source": [
        "np.zeros((6,2))"
      ],
      "metadata": {
        "colab": {
          "base_uri": "https://localhost:8080/"
        },
        "id": "2WL6pGLuVQOe",
        "outputId": "586692c5-29d4-40de-eff4-5dd4da0ffc57"
      },
      "execution_count": null,
      "outputs": [
        {
          "output_type": "execute_result",
          "data": {
            "text/plain": [
              "array([[0., 0.],\n",
              "       [0., 0.],\n",
              "       [0., 0.],\n",
              "       [0., 0.],\n",
              "       [0., 0.],\n",
              "       [0., 0.]])"
            ]
          },
          "metadata": {},
          "execution_count": 75
        }
      ]
    },
    {
      "cell_type": "code",
      "source": [
        "zeros_array.dtype"
      ],
      "metadata": {
        "colab": {
          "base_uri": "https://localhost:8080/"
        },
        "id": "6FVp-hrSVao1",
        "outputId": "2c3e8869-f2bc-4cfc-d222-c7222666e823"
      },
      "execution_count": null,
      "outputs": [
        {
          "output_type": "execute_result",
          "data": {
            "text/plain": [
              "dtype('float64')"
            ]
          },
          "metadata": {},
          "execution_count": 76
        }
      ]
    },
    {
      "cell_type": "code",
      "source": [
        "another_zeros_array.dtype"
      ],
      "metadata": {
        "colab": {
          "base_uri": "https://localhost:8080/"
        },
        "id": "wdzWtqCVVffC",
        "outputId": "4d8ec815-fc02-4315-ab01-83b43ae75fd5"
      },
      "execution_count": null,
      "outputs": [
        {
          "output_type": "execute_result",
          "data": {
            "text/plain": [
              "dtype('int64')"
            ]
          },
          "metadata": {},
          "execution_count": 77
        }
      ]
    },
    {
      "cell_type": "code",
      "source": [
        "np.zeros((3,4,2))"
      ],
      "metadata": {
        "colab": {
          "base_uri": "https://localhost:8080/"
        },
        "id": "JKfJ8ToEVlxG",
        "outputId": "52154027-920b-47cd-91b2-83cae09c0860"
      },
      "execution_count": null,
      "outputs": [
        {
          "output_type": "execute_result",
          "data": {
            "text/plain": [
              "array([[[0., 0.],\n",
              "        [0., 0.],\n",
              "        [0., 0.],\n",
              "        [0., 0.]],\n",
              "\n",
              "       [[0., 0.],\n",
              "        [0., 0.],\n",
              "        [0., 0.],\n",
              "        [0., 0.]],\n",
              "\n",
              "       [[0., 0.],\n",
              "        [0., 0.],\n",
              "        [0., 0.],\n",
              "        [0., 0.]]])"
            ]
          },
          "metadata": {},
          "execution_count": 79
        }
      ]
    },
    {
      "cell_type": "code",
      "source": [
        "# Initializing the array with ones\n",
        "ones_array = np.ones((3,3))*50 # Default dtype = float\n",
        "another_ones_array = np.ones((2,3) , dtype=int)\n",
        "# print(ones_array)\n",
        "print(another_ones_array)"
      ],
      "metadata": {
        "colab": {
          "base_uri": "https://localhost:8080/"
        },
        "id": "rKUTU-tGV8W7",
        "outputId": "35a5a522-0bcd-4827-edf8-6b5ad5d7b370"
      },
      "execution_count": null,
      "outputs": [
        {
          "output_type": "stream",
          "name": "stdout",
          "text": [
            "[[1 1 1]\n",
            " [1 1 1]]\n"
          ]
        }
      ]
    },
    {
      "cell_type": "code",
      "source": [
        "another_ones_array.dtype"
      ],
      "metadata": {
        "colab": {
          "base_uri": "https://localhost:8080/"
        },
        "id": "pHhD3ywQWkUE",
        "outputId": "92868163-2139-4177-a61e-b5dc7444ce0b"
      },
      "execution_count": null,
      "outputs": [
        {
          "output_type": "execute_result",
          "data": {
            "text/plain": [
              "dtype('int64')"
            ]
          },
          "metadata": {},
          "execution_count": 83
        }
      ]
    },
    {
      "cell_type": "code",
      "source": [
        "# int64 - datatype to hold an integer number using a 64-bit representation\n",
        "# float64 - a datatype to hold a floating point number (real number) using a 64-bit representation\n",
        "\n",
        "\n",
        "bunch_of_ones = np.ones((4,3))\n",
        "bunch_of_ones"
      ],
      "metadata": {
        "colab": {
          "base_uri": "https://localhost:8080/"
        },
        "id": "-yWWBVLHWpUb",
        "outputId": "822a1d86-0ccc-4535-945b-dcda41d0653d"
      },
      "execution_count": null,
      "outputs": [
        {
          "output_type": "execute_result",
          "data": {
            "text/plain": [
              "array([[1., 1., 1.],\n",
              "       [1., 1., 1.],\n",
              "       [1., 1., 1.],\n",
              "       [1., 1., 1.]])"
            ]
          },
          "metadata": {},
          "execution_count": 84
        }
      ]
    },
    {
      "cell_type": "code",
      "source": [
        "# Trying to change the shape of our array\n",
        "bunch_of_ones.shape = (2,6)\n",
        "bunch_of_ones\n"
      ],
      "metadata": {
        "colab": {
          "base_uri": "https://localhost:8080/"
        },
        "id": "qtRh0QzsXWNo",
        "outputId": "86c076a0-ac13-471f-dce7-40dfa3badb4f"
      },
      "execution_count": null,
      "outputs": [
        {
          "output_type": "execute_result",
          "data": {
            "text/plain": [
              "array([[1., 1., 1., 1., 1., 1.],\n",
              "       [1., 1., 1., 1., 1., 1.]])"
            ]
          },
          "metadata": {},
          "execution_count": 85
        }
      ]
    },
    {
      "cell_type": "code",
      "source": [
        "# Array with values from 0 to N\n",
        "array_with_range = np.arange(5)\n",
        "array_with_range"
      ],
      "metadata": {
        "colab": {
          "base_uri": "https://localhost:8080/"
        },
        "id": "LXdsy6qgXqYh",
        "outputId": "2d18a751-9301-42ec-a96d-f071e7b6022e"
      },
      "execution_count": null,
      "outputs": [
        {
          "output_type": "execute_result",
          "data": {
            "text/plain": [
              "array([0, 1, 2, 3, 4])"
            ]
          },
          "metadata": {},
          "execution_count": 86
        }
      ]
    },
    {
      "cell_type": "code",
      "source": [
        "# Set start and stp parameters\n",
        "# Parameters for the function - np.arange(start, stp, step, dtype)\n",
        "# Default dtype is that of the input given\n",
        "another_array_with_range = np.arange(10,20,2)\n",
        "another_array_with_range"
      ],
      "metadata": {
        "colab": {
          "base_uri": "https://localhost:8080/"
        },
        "id": "pn2mi3dFZIUM",
        "outputId": "e113fed2-b24b-4255-f3e1-a063449c93cd"
      },
      "execution_count": null,
      "outputs": [
        {
          "output_type": "execute_result",
          "data": {
            "text/plain": [
              "array([10, 12, 14, 16, 18])"
            ]
          },
          "metadata": {},
          "execution_count": 87
        }
      ]
    },
    {
      "cell_type": "code",
      "source": [
        "# to get an array with random input elements of desired shape\n",
        "# Parameters for the function - np.full(shape)\n",
        "random_array = np.random.normal(1.3,(4,3))\n",
        "print(random_array)"
      ],
      "metadata": {
        "colab": {
          "base_uri": "https://localhost:8080/"
        },
        "id": "U3ryUSmvZ7BZ",
        "outputId": "0cce4a19-972a-43af-ca92-7541580664a3"
      },
      "execution_count": null,
      "outputs": [
        {
          "output_type": "stream",
          "name": "stdout",
          "text": [
            "[1.33031327 3.58411014]\n",
            "[ 0.66613291 -1.35880904]\n"
          ]
        }
      ]
    },
    {
      "cell_type": "code",
      "source": [
        "import numpy as np\n",
        "# Parameters for the function - np.full(shape,value)\n",
        "a = np.full((3,3),100)\n",
        "print(a)\n",
        " print(a)"
      ],
      "metadata": {
        "colab": {
          "base_uri": "https://localhost:8080/",
          "height": 106
        },
        "id": "VZVxRwBBatWo",
        "outputId": "b61702fa-1eae-4cc4-9036-2331a2bb7cc7"
      },
      "execution_count": null,
      "outputs": [
        {
          "output_type": "error",
          "ename": "SyntaxError",
          "evalue": "invalid syntax (<ipython-input-91-1e94442e2f34>, line 1)",
          "traceback": [
            "\u001b[0;36m  File \u001b[0;32m\"<ipython-input-91-1e94442e2f34>\"\u001b[0;36m, line \u001b[0;32m1\u001b[0m\n\u001b[0;31m    To get an array with specified input elements of desired shape\u001b[0m\n\u001b[0m       ^\u001b[0m\n\u001b[0;31mSyntaxError\u001b[0m\u001b[0;31m:\u001b[0m invalid syntax\n"
          ]
        }
      ]
    },
    {
      "cell_type": "code",
      "source": [
        "a = np.ones((3,3),dtype=int)*100\n",
        "print(a)"
      ],
      "metadata": {
        "colab": {
          "base_uri": "https://localhost:8080/"
        },
        "id": "TwroXfhDb3kO",
        "outputId": "1c6dc264-648c-4527-8322-8144364a1132"
      },
      "execution_count": null,
      "outputs": [
        {
          "output_type": "stream",
          "name": "stdout",
          "text": [
            "[[100 100 100]\n",
            " [100 100 100]\n",
            " [100 100 100]]\n"
          ]
        }
      ]
    },
    {
      "cell_type": "code",
      "source": [
        "# to get an identify matrix\n",
        "a = np.identity(5)\n",
        "print(a)"
      ],
      "metadata": {
        "colab": {
          "base_uri": "https://localhost:8080/"
        },
        "id": "9FA5OMX8cDIW",
        "outputId": "602cbb30-e388-4e7c-e453-b17ba806579e"
      },
      "execution_count": null,
      "outputs": [
        {
          "output_type": "stream",
          "name": "stdout",
          "text": [
            "[[1. 0. 0. 0. 0.]\n",
            " [0. 1. 0. 0. 0.]\n",
            " [0. 0. 1. 0. 0.]\n",
            " [0. 0. 0. 1. 0.]\n",
            " [0. 0. 0. 0. 1.]]\n"
          ]
        }
      ]
    },
    {
      "cell_type": "code",
      "source": [
        "# convert tuple to ndarray\n",
        "typical_tuple = (1,2,3)\n",
        "corresponding_array = np.asarray(typical_tuple)\n",
        "corresponding_array\n"
      ],
      "metadata": {
        "colab": {
          "base_uri": "https://localhost:8080/"
        },
        "id": "86vBgiPzcXxL",
        "outputId": "c1a1e5ab-fbfb-4cc2-c03d-37b5ce6a3dc6"
      },
      "execution_count": null,
      "outputs": [
        {
          "output_type": "execute_result",
          "data": {
            "text/plain": [
              "array([1, 2, 3])"
            ]
          },
          "metadata": {},
          "execution_count": 94
        }
      ]
    },
    {
      "cell_type": "code",
      "source": [
        "# retrieving elements from a 1-D array\n",
        "a = np.arange(10)\n",
        "a[2:5]"
      ],
      "metadata": {
        "colab": {
          "base_uri": "https://localhost:8080/"
        },
        "id": "rrbu7sric9j1",
        "outputId": "098cf144-4912-4ad5-8972-8e64d53fe304"
      },
      "execution_count": null,
      "outputs": [
        {
          "output_type": "execute_result",
          "data": {
            "text/plain": [
              "array([2, 3, 4])"
            ]
          },
          "metadata": {},
          "execution_count": 95
        }
      ]
    },
    {
      "cell_type": "code",
      "source": [
        "# slice items between indexes in steps\n",
        "a = np.random.random(10)\n",
        "a"
      ],
      "metadata": {
        "colab": {
          "base_uri": "https://localhost:8080/"
        },
        "id": "iEON8ikndPCh",
        "outputId": "e05e8873-7139-4bad-c43b-0904163d4d15"
      },
      "execution_count": null,
      "outputs": [
        {
          "output_type": "execute_result",
          "data": {
            "text/plain": [
              "array([0.4669157 , 0.13638866, 0.46120953, 0.12092347, 0.59645282,\n",
              "       0.00775195, 0.56530749, 0.1846837 , 0.75559959, 0.74113214])"
            ]
          },
          "metadata": {},
          "execution_count": 96
        }
      ]
    },
    {
      "cell_type": "code",
      "source": [
        "a[::2]"
      ],
      "metadata": {
        "colab": {
          "base_uri": "https://localhost:8080/"
        },
        "id": "5dYwZ2Oxdbf9",
        "outputId": "680f18fd-61e7-4eef-f515-c45089631837"
      },
      "execution_count": null,
      "outputs": [
        {
          "output_type": "execute_result",
          "data": {
            "text/plain": [
              "array([0.4669157 , 0.46120953, 0.59645282, 0.56530749, 0.75559959])"
            ]
          },
          "metadata": {},
          "execution_count": 97
        }
      ]
    },
    {
      "cell_type": "code",
      "source": [
        "# when certain parameters are unspecified\n",
        "a = np.arange(10)\n",
        "print(a[:6:2]) # starting index is unspecified (default = 0)\n",
        "print(a[1::2]) # ending index is unspecified (default = array size)\n",
        "print(a[1:6:]) # steps is unspecified (default = 1)"
      ],
      "metadata": {
        "colab": {
          "base_uri": "https://localhost:8080/"
        },
        "id": "ULwB1EGKdfeO",
        "outputId": "271b932a-a475-4b8d-da64-699fb798656d"
      },
      "execution_count": null,
      "outputs": [
        {
          "output_type": "stream",
          "name": "stdout",
          "text": [
            "[0 2 4]\n",
            "[1 3 5 7 9]\n",
            "[1 2 3 4 5]\n"
          ]
        }
      ]
    },
    {
      "cell_type": "code",
      "source": [
        "# retrieving elements from a 2-D array\n",
        "a = np.array([[1,2,3],[4,5,6]])\n",
        "print(a[1,2])\n",
        "# print(a[1,2])"
      ],
      "metadata": {
        "colab": {
          "base_uri": "https://localhost:8080/"
        },
        "id": "nI2DSw2deTHv",
        "outputId": "ba447555-ae44-459e-adad-0657730a2794"
      },
      "execution_count": null,
      "outputs": [
        {
          "output_type": "stream",
          "name": "stdout",
          "text": [
            "6\n"
          ]
        }
      ]
    },
    {
      "cell_type": "code",
      "source": [
        "# getting the entire array\n",
        "a = np.array([[1,2,3],[4,5,6],[7,8,9]])\n",
        "print(a)\n",
        "print(a[0:2])\n",
        "print(a[0:2,-2:])\n"
      ],
      "metadata": {
        "colab": {
          "base_uri": "https://localhost:8080/"
        },
        "id": "NNVEcmOOeyTs",
        "outputId": "5b5afc0f-385e-4bfd-9a5d-569c9c587497"
      },
      "execution_count": null,
      "outputs": [
        {
          "output_type": "stream",
          "name": "stdout",
          "text": [
            "[[1 2 3]\n",
            " [4 5 6]\n",
            " [7 8 9]]\n",
            "[[1 2 3]\n",
            " [4 5 6]]\n",
            "[[2 3]\n",
            " [5 6]]\n"
          ]
        }
      ]
    },
    {
      "cell_type": "code",
      "source": [
        "# getting the 1st column\n",
        "a = np.array([[1,2,3],[4,5,6],[7,8,9]])\n",
        "print(a[0:1,1:2])"
      ],
      "metadata": {
        "colab": {
          "base_uri": "https://localhost:8080/"
        },
        "id": "hH5KLwrmfQ_z",
        "outputId": "fd2eac8e-d2a7-492d-97ff-9b406ec4eb22"
      },
      "execution_count": null,
      "outputs": [
        {
          "output_type": "stream",
          "name": "stdout",
          "text": [
            "[[2]]\n"
          ]
        }
      ]
    },
    {
      "cell_type": "code",
      "source": [
        "# getting arbitrary values\n",
        "a = np.array([[1,2,3],[4,5,6],[7,8,9]])\n",
        "print(a[0:2,1:3])"
      ],
      "metadata": {
        "colab": {
          "base_uri": "https://localhost:8080/"
        },
        "id": "pS_W7qqcfpC2",
        "outputId": "d2db7221-66c5-41d7-ffad-de1d4ac46121"
      },
      "execution_count": null,
      "outputs": [
        {
          "output_type": "stream",
          "name": "stdout",
          "text": [
            "[[2 3]\n",
            " [5 6]]\n"
          ]
        }
      ]
    },
    {
      "cell_type": "code",
      "source": [
        "# For 3-D array slicing the format is array[index,row,column]\n",
        "a = np.array([[[1,2],[3,4],[5,6]],[[7,8],[9,10],[11,12]],[[13,14],[15,16],[17,18]]])\n",
        "print(a)\n",
        "print(a[0:2])\n",
        "# print(a[0:2,1:])\n",
        "print(a[0:2,1:])"
      ],
      "metadata": {
        "colab": {
          "base_uri": "https://localhost:8080/"
        },
        "id": "ABwrdJBhgDU7",
        "outputId": "cfdb944f-1fce-4d01-d771-aabdff55d749"
      },
      "execution_count": null,
      "outputs": [
        {
          "output_type": "stream",
          "name": "stdout",
          "text": [
            "[[[ 1  2]\n",
            "  [ 3  4]\n",
            "  [ 5  6]]\n",
            "\n",
            " [[ 7  8]\n",
            "  [ 9 10]\n",
            "  [11 12]]\n",
            "\n",
            " [[13 14]\n",
            "  [15 16]\n",
            "  [17 18]]]\n",
            "[[[ 1  2]\n",
            "  [ 3  4]\n",
            "  [ 5  6]]\n",
            "\n",
            " [[ 7  8]\n",
            "  [ 9 10]\n",
            "  [11 12]]]\n",
            "[[[ 3  4]\n",
            "  [ 5  6]]\n",
            "\n",
            " [[ 9 10]\n",
            "  [11 12]]]\n"
          ]
        }
      ]
    },
    {
      "cell_type": "code",
      "source": [
        "# np.random.randint()\n",
        "np.random.randint(20)"
      ],
      "metadata": {
        "colab": {
          "base_uri": "https://localhost:8080/"
        },
        "id": "DPYIvEnMhC0b",
        "outputId": "460a2621-8bd4-4f31-f84b-d796816be5ed"
      },
      "execution_count": null,
      "outputs": [
        {
          "output_type": "execute_result",
          "data": {
            "text/plain": [
              "4"
            ]
          },
          "metadata": {},
          "execution_count": 105
        }
      ]
    },
    {
      "cell_type": "code",
      "source": [
        "# Create a 2 D Array\n",
        "arravali = np.array(np.random.randint(10,45,(8,2)))\n",
        "print(f\"The defined array is \\n{arravali}\")\n",
        "print(f\" \\n The shape of the array is {arravali.shape}\")"
      ],
      "metadata": {
        "colab": {
          "base_uri": "https://localhost:8080/"
        },
        "id": "vDnDW2V4hSvY",
        "outputId": "56b111f8-61de-46e7-ca91-7d0d0ad28dc4"
      },
      "execution_count": null,
      "outputs": [
        {
          "output_type": "stream",
          "name": "stdout",
          "text": [
            "The defined array is \n",
            "[[25 28]\n",
            " [26 25]\n",
            " [39 26]\n",
            " [14 17]\n",
            " [17 39]\n",
            " [19 39]\n",
            " [37 43]\n",
            " [34 23]]\n",
            " \n",
            " The shape of the array is (8, 2)\n"
          ]
        }
      ]
    },
    {
      "cell_type": "code",
      "source": [
        "# Storing the transpose in another matrix object\n",
        "import numpy as np\n",
        "nilgiri = np.transpose(arravali)\n",
        "print(f\"The transpose of the array is \\n{nilgiri}\")\n",
        "print(f\"The shape of te array is \\n{nilgiri.shape}\")\n"
      ],
      "metadata": {
        "id": "Nhpni93ziDoC",
        "colab": {
          "base_uri": "https://localhost:8080/",
          "height": 211
        },
        "outputId": "5dc4a526-afd8-4594-ed78-931a8be431fb"
      },
      "execution_count": null,
      "outputs": [
        {
          "output_type": "error",
          "ename": "NameError",
          "evalue": "name 'arravali' is not defined",
          "traceback": [
            "\u001b[0;31m---------------------------------------------------------------------------\u001b[0m",
            "\u001b[0;31mNameError\u001b[0m                                 Traceback (most recent call last)",
            "\u001b[0;32m<ipython-input-7-31d3e9d1be7a>\u001b[0m in \u001b[0;36m<cell line: 0>\u001b[0;34m()\u001b[0m\n\u001b[1;32m      1\u001b[0m \u001b[0;31m# Storing the transpose in another matrix object\u001b[0m\u001b[0;34m\u001b[0m\u001b[0;34m\u001b[0m\u001b[0m\n\u001b[1;32m      2\u001b[0m \u001b[0;32mimport\u001b[0m \u001b[0mnumpy\u001b[0m \u001b[0;32mas\u001b[0m \u001b[0mnp\u001b[0m\u001b[0;34m\u001b[0m\u001b[0;34m\u001b[0m\u001b[0m\n\u001b[0;32m----> 3\u001b[0;31m \u001b[0mnilgiri\u001b[0m \u001b[0;34m=\u001b[0m \u001b[0mnp\u001b[0m\u001b[0;34m.\u001b[0m\u001b[0mtranspose\u001b[0m\u001b[0;34m(\u001b[0m\u001b[0marravali\u001b[0m\u001b[0;34m)\u001b[0m\u001b[0;34m\u001b[0m\u001b[0;34m\u001b[0m\u001b[0m\n\u001b[0m\u001b[1;32m      4\u001b[0m \u001b[0mprint\u001b[0m\u001b[0;34m(\u001b[0m\u001b[0;34mf\"The transpose of the array is \\n{nilgiri}\"\u001b[0m\u001b[0;34m)\u001b[0m\u001b[0;34m\u001b[0m\u001b[0;34m\u001b[0m\u001b[0m\n\u001b[1;32m      5\u001b[0m \u001b[0mprint\u001b[0m\u001b[0;34m(\u001b[0m\u001b[0;34mf\"The shape of te array is \\n{nilgiri.shape}\"\u001b[0m\u001b[0;34m)\u001b[0m\u001b[0;34m\u001b[0m\u001b[0;34m\u001b[0m\u001b[0m\n",
            "\u001b[0;31mNameError\u001b[0m: name 'arravali' is not defined"
          ]
        }
      ]
    },
    {
      "cell_type": "code",
      "source": [
        "# 3D Array\n",
        "random_3d_array = np.array(np.random.randint(10,45,(3,2,4)))\n",
        "print(f\" The defined array is \\n{random_3d_array}\")\n",
        "print(f\" \\n The shape of the array is {random_3d_array.shape}\")\n"
      ],
      "metadata": {
        "colab": {
          "base_uri": "https://localhost:8080/"
        },
        "id": "tWaWZPdDkuVd",
        "outputId": "59cd62de-6ffd-4240-df66-925d87879600"
      },
      "execution_count": null,
      "outputs": [
        {
          "output_type": "stream",
          "name": "stdout",
          "text": [
            " The defined array is \n",
            "[[[23 25 41 11]\n",
            "  [19 18 39 36]]\n",
            "\n",
            " [[20 15 42 23]\n",
            "  [35 20 26 10]]\n",
            "\n",
            " [[33 42 36 41]\n",
            "  [29 26 20 11]]]\n",
            " \n",
            " The shape of the array is (3, 2, 4)\n"
          ]
        }
      ]
    },
    {
      "cell_type": "code",
      "source": [
        "# Storing the transpose of the created 3d array\n",
        "transposed_3d_array = np.transpose(random_3d_array)\n",
        "print(f\"The transpose of the array is \\n{transposed_3d_array}\")\n",
        "print(f\" \\n The shape of the array is {transposed_3d_array.shape}\")"
      ],
      "metadata": {
        "colab": {
          "base_uri": "https://localhost:8080/"
        },
        "id": "hbS2xGpUleDV",
        "outputId": "813e1c68-6dfa-4c3e-9c0b-ab1105a2147b"
      },
      "execution_count": null,
      "outputs": [
        {
          "output_type": "stream",
          "name": "stdout",
          "text": [
            "The transpose of the array is \n",
            "[[[23 20 33]\n",
            "  [19 35 29]]\n",
            "\n",
            " [[25 15 42]\n",
            "  [18 20 26]]\n",
            "\n",
            " [[41 42 36]\n",
            "  [39 26 20]]\n",
            "\n",
            " [[11 23 41]\n",
            "  [36 10 11]]]\n",
            " \n",
            " The shape of the array is (4, 2, 3)\n"
          ]
        }
      ]
    },
    {
      "cell_type": "code",
      "source": [
        "# Create a two-dimensional array\n",
        "random_cohort = np.array(np.random.randint(10,45,(3,8))) # 2D\n",
        "print(f\"The defined array is \\n{random_cohort}\")\n",
        "print(f\" \\n The shape of the array is {random_cohort.shape}\")"
      ],
      "metadata": {
        "colab": {
          "base_uri": "https://localhost:8080/"
        },
        "id": "AwD7H9tbnBm2",
        "outputId": "86cd181d-8644-475b-fb36-86915db6884f"
      },
      "execution_count": null,
      "outputs": [
        {
          "output_type": "stream",
          "name": "stdout",
          "text": [
            "The defined array is \n",
            "[[42 31 11 10 11 26 42 21]\n",
            " [29 20 33 38 40 38 22 38]\n",
            " [40 23 11 34 26 32 29 39]]\n",
            " \n",
            " The shape of the array is (3, 8)\n"
          ]
        }
      ]
    },
    {
      "cell_type": "code",
      "source": [
        "# Now we can reshape this to 1-D,2-D or 3-D array\n",
        "new_shape = (2,4,3)\n",
        "reshaped_random_cohort = np.reshape(random_cohort,new_shape)\n",
        "print(f\"The reshaped array is \\n{reshaped_random_cohort}\")\n",
        "print(f\" \\n The shape of the array is {reshaped_random_cohort.shape}\")"
      ],
      "metadata": {
        "colab": {
          "base_uri": "https://localhost:8080/"
        },
        "id": "q52Fmfw-nZ5V",
        "outputId": "d87f493e-aa23-4a9c-c3a2-576f9ce90bae"
      },
      "execution_count": null,
      "outputs": [
        {
          "output_type": "stream",
          "name": "stdout",
          "text": [
            "The reshaped array is \n",
            "[[[42 31 11]\n",
            "  [10 11 26]\n",
            "  [42 21 29]\n",
            "  [20 33 38]]\n",
            "\n",
            " [[40 38 22]\n",
            "  [38 40 23]\n",
            "  [11 34 26]\n",
            "  [32 29 39]]]\n",
            " \n",
            " The shape of the array is (2, 4, 3)\n"
          ]
        }
      ]
    },
    {
      "cell_type": "code",
      "source": [
        "new_shape = (2,-1,6)\n",
        "reshaped_random_cohort = np.reshape(random_cohort,new_shape)\n",
        "print(f\"The reshaped array is \\n{reshaped_random_cohort}\")\n",
        "print(f\" The shape of the array is {reshaped_random_cohort.shape}\")"
      ],
      "metadata": {
        "colab": {
          "base_uri": "https://localhost:8080/"
        },
        "id": "jgBeI1PIooq1",
        "outputId": "7a7c04ad-d8ed-47b0-988a-f938d51c5154"
      },
      "execution_count": null,
      "outputs": [
        {
          "output_type": "stream",
          "name": "stdout",
          "text": [
            "The reshaped array is \n",
            "[[[42 31 11 10 11 26]\n",
            "  [42 21 29 20 33 38]]\n",
            "\n",
            " [[40 38 22 38 40 23]\n",
            "  [11 34 26 32 29 39]]]\n",
            " The shape of the array is (2, 2, 6)\n"
          ]
        }
      ]
    },
    {
      "source": [
        "# Make sure numpy is imported with the 'np' alias at the top of your cell\n",
        "import numpy as np\n",
        "\n",
        "# Create a three-dimensional array\n",
        "random_3D_cohort = np.array(np.random.randint(10,45,(3,6,2)))\n",
        "print(f\"The defined array is \\n{random_3D_cohort}\")\n",
        "print(f\" \\n The shape of the array is {random_3D_cohort.shape}\")"
      ],
      "cell_type": "code",
      "metadata": {
        "colab": {
          "base_uri": "https://localhost:8080/"
        },
        "id": "93SOtdqcANrs",
        "outputId": "d208f885-2260-462b-f456-3ab49a8b7e36"
      },
      "execution_count": null,
      "outputs": [
        {
          "output_type": "stream",
          "name": "stdout",
          "text": [
            "The defined array is \n",
            "[[[33 23]\n",
            "  [32 17]\n",
            "  [32 33]\n",
            "  [26 23]\n",
            "  [32 39]\n",
            "  [13 38]]\n",
            "\n",
            " [[16 33]\n",
            "  [28 43]\n",
            "  [17 38]\n",
            "  [22 39]\n",
            "  [43 33]\n",
            "  [23 44]]\n",
            "\n",
            " [[12 34]\n",
            "  [28 39]\n",
            "  [18 42]\n",
            "  [21 34]\n",
            "  [24 35]\n",
            "  [25 24]]]\n",
            " \n",
            " The shape of the array is (3, 6, 2)\n"
          ]
        }
      ]
    },
    {
      "cell_type": "code",
      "source": [
        "# Reshape the created 3D array\n",
        "new_shape = (2,-1,6)\n",
        "reshaped_random_3D_cohort = np.reshape(random_3D_cohort,new_shape)\n",
        "print(f\"The reshape array is \\n{reshaped_random_3D_cohort}\")\n",
        "print(f\" \\n The shape of the array is {reshaped_random_3D_cohort.shape}\")"
      ],
      "metadata": {
        "colab": {
          "base_uri": "https://localhost:8080/"
        },
        "id": "Bx0d9ggg_dZc",
        "outputId": "52a74336-361c-4433-f3f3-e46e31801c1e"
      },
      "execution_count": null,
      "outputs": [
        {
          "output_type": "stream",
          "name": "stdout",
          "text": [
            "The reshape array is \n",
            "[[[33 23 32 17 32 33]\n",
            "  [26 23 32 39 13 38]\n",
            "  [16 33 28 43 17 38]]\n",
            "\n",
            " [[22 39 43 33 23 44]\n",
            "  [12 34 28 39 18 42]\n",
            "  [21 34 24 35 25 24]]]\n",
            " \n",
            " The shape of the array is (2, 3, 6)\n"
          ]
        }
      ]
    },
    {
      "cell_type": "code",
      "source": [
        "# Initialize a 3D array\n",
        "random_3D_cohort = np.array(np.random.randint(10,45,(2,4,6)))\n",
        "print(f\"The defined array is \\n{random_3D_cohort}\")\n",
        "print(f\" \\n The shape of the array is {random_3D_cohort.shape}\")"
      ],
      "metadata": {
        "colab": {
          "base_uri": "https://localhost:8080/"
        },
        "id": "WrLC6kU2BCq5",
        "outputId": "8ab590fe-d351-41fe-8055-75af890b08d3"
      },
      "execution_count": null,
      "outputs": [
        {
          "output_type": "stream",
          "name": "stdout",
          "text": [
            "The defined array is \n",
            "[[[15 16 20 33 27 23]\n",
            "  [32 34 29 26 39 39]\n",
            "  [12 22 19 34 36 26]\n",
            "  [11 24 18 20 38 15]]\n",
            "\n",
            " [[24 29 12 43 38 33]\n",
            "  [28 16 35 32 12 34]\n",
            "  [43 24 43 19 27 29]\n",
            "  [29 14 24 10 39 21]]]\n",
            " \n",
            " The shape of the array is (2, 4, 6)\n"
          ]
        }
      ]
    },
    {
      "cell_type": "code",
      "source": [
        "# Resize the created 3D array\n",
        "new_shape = (4,3,6)\n",
        "resized_random_3D_cohort = np.resize(random_3D_cohort,new_shape)\n",
        "print(f\"The resized array is \\n{resized_random_3D_cohort}\")\n",
        "print(f\" \\n The shape of the array is {resized_random_3D_cohort.shape}\")"
      ],
      "metadata": {
        "colab": {
          "base_uri": "https://localhost:8080/"
        },
        "id": "80tClnhpBmQT",
        "outputId": "b13ea90c-cc93-406e-ec00-40b9e20d32ef"
      },
      "execution_count": null,
      "outputs": [
        {
          "output_type": "stream",
          "name": "stdout",
          "text": [
            "The resized array is \n",
            "[[[15 16 20 33 27 23]\n",
            "  [32 34 29 26 39 39]\n",
            "  [12 22 19 34 36 26]]\n",
            "\n",
            " [[11 24 18 20 38 15]\n",
            "  [24 29 12 43 38 33]\n",
            "  [28 16 35 32 12 34]]\n",
            "\n",
            " [[43 24 43 19 27 29]\n",
            "  [29 14 24 10 39 21]\n",
            "  [15 16 20 33 27 23]]\n",
            "\n",
            " [[32 34 29 26 39 39]\n",
            "  [12 22 19 34 36 26]\n",
            "  [11 24 18 20 38 15]]]\n",
            " \n",
            " The shape of the array is (4, 3, 6)\n"
          ]
        }
      ]
    },
    {
      "source": [
        "# Instead of using resize directly on the array, use np.resize\n",
        "# to create a new array with the desired shape:\n",
        "resized_random_3D_cohort = np.resize(random_3D_cohort, new_shape)\n",
        "\n",
        "# If you need to modify the original array and are sure it's not\n",
        "# referenced elsewhere, you can use refcheck=False, but it's generally\n",
        "# safer to create a new array:\n",
        "# random_3D_cohort.resize(new_shape, refcheck=False)  # Use with caution!\n",
        "\n",
        "resized_random_3D_cohort"
      ],
      "cell_type": "code",
      "metadata": {
        "colab": {
          "base_uri": "https://localhost:8080/"
        },
        "id": "X-YqxUpaDA8N",
        "outputId": "3ee5f049-6589-4687-bcca-eee25f16c228"
      },
      "execution_count": null,
      "outputs": [
        {
          "output_type": "execute_result",
          "data": {
            "text/plain": [
              "array([[[15, 16, 20, 33, 27, 23],\n",
              "        [32, 34, 29, 26, 39, 39],\n",
              "        [12, 22, 19, 34, 36, 26]],\n",
              "\n",
              "       [[11, 24, 18, 20, 38, 15],\n",
              "        [24, 29, 12, 43, 38, 33],\n",
              "        [28, 16, 35, 32, 12, 34]],\n",
              "\n",
              "       [[43, 24, 43, 19, 27, 29],\n",
              "        [29, 14, 24, 10, 39, 21],\n",
              "        [15, 16, 20, 33, 27, 23]],\n",
              "\n",
              "       [[32, 34, 29, 26, 39, 39],\n",
              "        [12, 22, 19, 34, 36, 26],\n",
              "        [11, 24, 18, 20, 38, 15]]])"
            ]
          },
          "metadata": {},
          "execution_count": 9
        }
      ]
    },
    {
      "cell_type": "code",
      "source": [
        "# Flatten the 3D array\n",
        "random_3D_cohort.flatten()"
      ],
      "metadata": {
        "colab": {
          "base_uri": "https://localhost:8080/"
        },
        "id": "9hFqjzYZDFXA",
        "outputId": "67cde538-71c9-4b6c-ad1e-458f0ddddf5c"
      },
      "execution_count": null,
      "outputs": [
        {
          "output_type": "execute_result",
          "data": {
            "text/plain": [
              "array([15, 16, 20, 33, 27, 23, 32, 34, 29, 26, 39, 39, 12, 22, 19, 34, 36,\n",
              "       26, 11, 24, 18, 20, 38, 15, 24, 29, 12, 43, 38, 33, 28, 16, 35, 32,\n",
              "       12, 34, 43, 24, 43, 19, 27, 29, 29, 14, 24, 10, 39, 21])"
            ]
          },
          "metadata": {},
          "execution_count": 10
        }
      ]
    },
    {
      "cell_type": "code",
      "source": [
        "random_3D_cohort"
      ],
      "metadata": {
        "colab": {
          "base_uri": "https://localhost:8080/"
        },
        "id": "pqt5elzEDT9h",
        "outputId": "8e0f2092-d30e-470e-e477-287c9bab245b"
      },
      "execution_count": null,
      "outputs": [
        {
          "output_type": "execute_result",
          "data": {
            "text/plain": [
              "array([[[15, 16, 20, 33, 27, 23],\n",
              "        [32, 34, 29, 26, 39, 39],\n",
              "        [12, 22, 19, 34, 36, 26],\n",
              "        [11, 24, 18, 20, 38, 15]],\n",
              "\n",
              "       [[24, 29, 12, 43, 38, 33],\n",
              "        [28, 16, 35, 32, 12, 34],\n",
              "        [43, 24, 43, 19, 27, 29],\n",
              "        [29, 14, 24, 10, 39, 21]]])"
            ]
          },
          "metadata": {},
          "execution_count": 11
        }
      ]
    },
    {
      "cell_type": "code",
      "source": [
        "# Flattens the array in row-major order with 'C'\n",
        "random_3D_cohort.flatten(order='F')"
      ],
      "metadata": {
        "colab": {
          "base_uri": "https://localhost:8080/"
        },
        "id": "ZLzYM_nJDXsn",
        "outputId": "261cf3a1-7698-4347-bd58-3943f5fc91cb"
      },
      "execution_count": null,
      "outputs": [
        {
          "output_type": "execute_result",
          "data": {
            "text/plain": [
              "array([15, 24, 32, 28, 12, 43, 11, 29, 16, 29, 34, 16, 22, 24, 24, 14, 20,\n",
              "       12, 29, 35, 19, 43, 18, 24, 33, 43, 26, 32, 34, 19, 20, 10, 27, 38,\n",
              "       39, 12, 36, 27, 38, 39, 23, 33, 39, 34, 26, 29, 15, 21])"
            ]
          },
          "metadata": {},
          "execution_count": 12
        }
      ]
    }
  ]
}