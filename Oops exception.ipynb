{
  "nbformat": 4,
  "nbformat_minor": 0,
  "metadata": {
    "colab": {
      "provenance": [],
      "authorship_tag": "ABX9TyPI8w1c6prHd8bdMCBxo5w4",
      "include_colab_link": true
    },
    "kernelspec": {
      "name": "python3",
      "display_name": "Python 3"
    },
    "language_info": {
      "name": "python"
    }
  },
  "cells": [
    {
      "cell_type": "markdown",
      "metadata": {
        "id": "view-in-github",
        "colab_type": "text"
      },
      "source": [
        "<a href=\"https://colab.research.google.com/github/Savi1234gaba/data/blob/main/Oops%20exception.ipynb\" target=\"_parent\"><img src=\"https://colab.research.google.com/assets/colab-badge.svg\" alt=\"Open In Colab\"/></a>"
      ]
    },
    {
      "cell_type": "code",
      "execution_count": null,
      "metadata": {
        "colab": {
          "base_uri": "https://localhost:8080/"
        },
        "id": "h6vnuoeYQrLo",
        "outputId": "fb6907dc-63f4-4cdf-ec63-7d3a0a83bb1a"
      },
      "outputs": [
        {
          "output_type": "execute_result",
          "data": {
            "text/plain": [
              "[]"
            ]
          },
          "metadata": {},
          "execution_count": 1
        }
      ],
      "source": [
        "empty_list = []\n",
        "\n",
        "empty_list"
      ]
    },
    {
      "cell_type": "code",
      "source": [
        "another_empty_list = list()\n",
        "\n",
        "\n",
        "another_empty_list"
      ],
      "metadata": {
        "colab": {
          "base_uri": "https://localhost:8080/"
        },
        "id": "n7mzZxDsQzg7",
        "outputId": "c1e4f13d-117f-4069-a150-cd66843c8ce6"
      },
      "execution_count": null,
      "outputs": [
        {
          "output_type": "execute_result",
          "data": {
            "text/plain": [
              "[]"
            ]
          },
          "metadata": {},
          "execution_count": 2
        }
      ]
    },
    {
      "cell_type": "code",
      "source": [
        "another_empty_list.append(2)\n",
        "\n",
        "\n",
        "another_empty_list"
      ],
      "metadata": {
        "colab": {
          "base_uri": "https://localhost:8080/"
        },
        "id": "8HfgmFvVQ_eY",
        "outputId": "864c68fd-257e-45ff-d9d5-bf47e9be3769"
      },
      "execution_count": null,
      "outputs": [
        {
          "output_type": "execute_result",
          "data": {
            "text/plain": [
              "[2]"
            ]
          },
          "metadata": {},
          "execution_count": 3
        }
      ]
    },
    {
      "cell_type": "code",
      "source": [
        "another_empty_list.append(1)\n",
        "another_empty_list.append(3)\n",
        "\n",
        "another_empty_list"
      ],
      "metadata": {
        "colab": {
          "base_uri": "https://localhost:8080/"
        },
        "id": "Lwe2eBvvRMME",
        "outputId": "405db9de-e2a2-4660-e167-a7f0940d291d"
      },
      "execution_count": null,
      "outputs": [
        {
          "output_type": "execute_result",
          "data": {
            "text/plain": [
              "[2, 1, 3]"
            ]
          },
          "metadata": {},
          "execution_count": 4
        }
      ]
    },
    {
      "cell_type": "code",
      "source": [
        "another_empty_list.index(3)"
      ],
      "metadata": {
        "colab": {
          "base_uri": "https://localhost:8080/"
        },
        "id": "S72jKh9nRZIz",
        "outputId": "784df6b7-bfc3-47fe-8f1c-f8d752669b78"
      },
      "execution_count": null,
      "outputs": [
        {
          "output_type": "execute_result",
          "data": {
            "text/plain": [
              "2"
            ]
          },
          "metadata": {},
          "execution_count": 5
        }
      ]
    },
    {
      "cell_type": "code",
      "source": [
        "the_sixth_sense = 6\n",
        "print(type(the_sixth_sense))"
      ],
      "metadata": {
        "colab": {
          "base_uri": "https://localhost:8080/"
        },
        "id": "SI-MwGbtReqt",
        "outputId": "1252e6b4-c858-4131-b4cc-bfc99a85c80c"
      },
      "execution_count": null,
      "outputs": [
        {
          "output_type": "stream",
          "name": "stdout",
          "text": [
            "<class 'int'>\n"
          ]
        }
      ]
    },
    {
      "cell_type": "code",
      "source": [
        "two_and_a_half_men = 2.5\n",
        "print(type(two_and_a_half_men))"
      ],
      "metadata": {
        "colab": {
          "base_uri": "https://localhost:8080/"
        },
        "id": "VhmKSQW-RxcY",
        "outputId": "8b0c3f20-6bdb-4af1-acb6-4a183f813101"
      },
      "execution_count": null,
      "outputs": [
        {
          "output_type": "stream",
          "name": "stdout",
          "text": [
            "<class 'float'>\n"
          ]
        }
      ]
    },
    {
      "cell_type": "code",
      "source": [
        "schindlers_list = list()\n",
        "print(type(schindlers_list))"
      ],
      "metadata": {
        "colab": {
          "base_uri": "https://localhost:8080/"
        },
        "id": "_n2SR0uQSUw4",
        "outputId": "09ebcdd8-39cb-4334-ed30-fe724af5f732"
      },
      "execution_count": null,
      "outputs": [
        {
          "output_type": "stream",
          "name": "stdout",
          "text": [
            "<class 'list'>\n"
          ]
        }
      ]
    },
    {
      "cell_type": "code",
      "source": [
        "another_list = list()\n",
        "\n",
        "\n",
        "tharoor = {'farrago':'a confused mixture'}\n",
        "print(type(tharoor))"
      ],
      "metadata": {
        "colab": {
          "base_uri": "https://localhost:8080/"
        },
        "id": "uynKDg4LSkOt",
        "outputId": "f0812f45-310b-4976-facb-8cb20a13d930"
      },
      "execution_count": null,
      "outputs": [
        {
          "output_type": "stream",
          "name": "stdout",
          "text": [
            "<class 'dict'>\n"
          ]
        }
      ]
    },
    {
      "cell_type": "code",
      "source": [
        "# Create a new object type called FirstClass\n",
        "class FirstClass:\n",
        "  pass\n",
        "\n",
        "\n",
        "# Instance of FirstClass\n",
        "x = FirstClass()\n",
        "print(type(x))"
      ],
      "metadata": {
        "colab": {
          "base_uri": "https://localhost:8080/"
        },
        "id": "pMFPtzo2TgaK",
        "outputId": "76f8a697-ae61-4c9b-f3ad-5203bb668ccf"
      },
      "execution_count": null,
      "outputs": [
        {
          "output_type": "stream",
          "name": "stdout",
          "text": [
            "<class '__main__.FirstClass'>\n"
          ]
        }
      ]
    },
    {
      "cell_type": "code",
      "source": [
        "y = FirstClass()\n",
        "print(type(y))"
      ],
      "metadata": {
        "colab": {
          "base_uri": "https://localhost:8080/"
        },
        "id": "9zx9yjVTUJiK",
        "outputId": "598d3f8b-8e0d-4119-8f68-8cc48aacf032"
      },
      "execution_count": null,
      "outputs": [
        {
          "output_type": "stream",
          "name": "stdout",
          "text": [
            "<class '__main__.FirstClass'>\n"
          ]
        }
      ]
    },
    {
      "cell_type": "code",
      "source": [
        "class Dog:\n",
        "\n",
        "  def __init__(self, breed, name):\n",
        "    self.breed__attribute = breed\n",
        "    self.name__attribute = name\n",
        "\n",
        "\n",
        "sam_object = Dog(breed ='Lab', name = 'Sam')\n",
        "frank_object = Dog(breed='Huskie', name = 'Frank')\n",
        "\n",
        "\n",
        "sam_object.breed__attribute"
      ],
      "metadata": {
        "id": "PIbmx2VjUYud",
        "colab": {
          "base_uri": "https://localhost:8080/",
          "height": 35
        },
        "outputId": "1921d6b3-4512-4b37-8a09-1c9337ee1156"
      },
      "execution_count": 23,
      "outputs": [
        {
          "output_type": "execute_result",
          "data": {
            "text/plain": [
              "'Lab'"
            ],
            "application/vnd.google.colaboratory.intrinsic+json": {
              "type": "string"
            }
          },
          "metadata": {},
          "execution_count": 23
        }
      ]
    },
    {
      "cell_type": "code",
      "source": [
        "sam_object.name__attribute"
      ],
      "metadata": {
        "colab": {
          "base_uri": "https://localhost:8080/",
          "height": 35
        },
        "id": "HCgBfQqaaZl4",
        "outputId": "a8cf0de0-8685-4ec5-e297-2dc7f321af80"
      },
      "execution_count": 25,
      "outputs": [
        {
          "output_type": "execute_result",
          "data": {
            "text/plain": [
              "'Sam'"
            ],
            "application/vnd.google.colaboratory.intrinsic+json": {
              "type": "string"
            }
          },
          "metadata": {},
          "execution_count": 25
        }
      ]
    },
    {
      "cell_type": "code",
      "source": [
        "frank_object.name__attribute"
      ],
      "metadata": {
        "colab": {
          "base_uri": "https://localhost:8080/",
          "height": 35
        },
        "id": "cDeEeoPXao3I",
        "outputId": "22ac6b66-f972-496e-d803-6194baa99848"
      },
      "execution_count": 26,
      "outputs": [
        {
          "output_type": "execute_result",
          "data": {
            "text/plain": [
              "'Frank'"
            ],
            "application/vnd.google.colaboratory.intrinsic+json": {
              "type": "string"
            }
          },
          "metadata": {},
          "execution_count": 26
        }
      ]
    },
    {
      "cell_type": "code",
      "source": [
        "class Circle:\n",
        "\n",
        "  def __init__(self, radius = 1):\n",
        "    self.radius = radius\n",
        "    self.area = 3.14 * radius * radius\n",
        "\n",
        "  def _setRadius(self, new_radius):\n",
        "    self.radius = new_radius\n",
        "    self.area = 3.14 * new_radius * new_radius\n",
        "\n",
        "  def getCircumference(self):\n",
        "    return 2 * 3.14 * self.radius\n",
        "\n",
        "c = Circle(2)\n",
        "\n",
        "c.radius\n",
        ""
      ],
      "metadata": {
        "colab": {
          "base_uri": "https://localhost:8080/"
        },
        "id": "aJYLgInXDMD5",
        "outputId": "fb031d00-6262-4a88-aa9f-e33832a20cd8"
      },
      "execution_count": 2,
      "outputs": [
        {
          "output_type": "execute_result",
          "data": {
            "text/plain": [
              "2"
            ]
          },
          "metadata": {},
          "execution_count": 2
        }
      ]
    },
    {
      "cell_type": "code",
      "source": [
        "c.radius\n",
        "\n",
        "c.getCircumference()"
      ],
      "metadata": {
        "colab": {
          "base_uri": "https://localhost:8080/"
        },
        "id": "-8fpJ3LtTXlU",
        "outputId": "63348e1c-4c46-441d-c389-46852217392e"
      },
      "execution_count": 10,
      "outputs": [
        {
          "output_type": "execute_result",
          "data": {
            "text/plain": [
              "12.56"
            ]
          },
          "metadata": {},
          "execution_count": 10
        }
      ]
    },
    {
      "cell_type": "code",
      "source": [
        "print('Radius is: ', c.radius)\n",
        "print('Area is: ', c.area)\n",
        "print('Circumference is: ', c.getCircumference())"
      ],
      "metadata": {
        "colab": {
          "base_uri": "https://localhost:8080/"
        },
        "id": "Do8dWuHnTUrE",
        "outputId": "32aaaf45-41e8-4f9f-ed94-a1f0ef8ab3b8"
      },
      "execution_count": 11,
      "outputs": [
        {
          "output_type": "stream",
          "name": "stdout",
          "text": [
            "Radius is:  2\n",
            "Area is:  12.56\n",
            "Circumference is:  12.56\n"
          ]
        }
      ]
    },
    {
      "cell_type": "code",
      "source": [
        "class HouseStark:\n",
        "  def __init__(self, sigil):\n",
        "    self.sigil = sigil\n",
        "\n",
        "  def motto(self):\n",
        "    return \"House Stark with sigil \" + \"has the motto 'Winter is coming'\"\n",
        "\n",
        "\n",
        "class HouseLannister:\n",
        "  def __init__(self, sigil):\n",
        "    self.sigil = sigil\n",
        "\n",
        "  def motto(self):\n",
        "    return \"House Lannister with sigil \" + self.sigil + \" has the motto 'Hear me roar'\"\n",
        "\n",
        "\n",
        "arya = HouseStark('direwolf')\n",
        "tyrion = HouseLannister('golden lion')\n",
        "\n",
        "\n",
        "print(arya.motto())"
      ],
      "metadata": {
        "colab": {
          "base_uri": "https://localhost:8080/"
        },
        "id": "5KIM36iGUoLI",
        "outputId": "e537ae84-386c-4ea7-f0e7-7de95236fd00"
      },
      "execution_count": 13,
      "outputs": [
        {
          "output_type": "stream",
          "name": "stdout",
          "text": [
            "House Stark with sigil has the motto 'Winter is coming'\n"
          ]
        }
      ]
    },
    {
      "cell_type": "code",
      "source": [
        "print(tyrion.motto())"
      ],
      "metadata": {
        "colab": {
          "base_uri": "https://localhost:8080/"
        },
        "id": "OhJrth3XW2aw",
        "outputId": "f3e79cbc-5dfd-4d60-cfba-c90fb1f9c52c"
      },
      "execution_count": 14,
      "outputs": [
        {
          "output_type": "stream",
          "name": "stdout",
          "text": [
            "House Lannister with sigil golden lion has the motto 'Hear me roar'\n"
          ]
        }
      ]
    },
    {
      "cell_type": "code",
      "source": [
        "for warrior in [arya, tyrion]:\n",
        "  print(warrior.motto())"
      ],
      "metadata": {
        "colab": {
          "base_uri": "https://localhost:8080/"
        },
        "id": "ghOW7_7EXAlH",
        "outputId": "e3b3648e-b2dd-4663-94b7-9840b9b46cdf"
      },
      "execution_count": 15,
      "outputs": [
        {
          "output_type": "stream",
          "name": "stdout",
          "text": [
            "House Stark with sigil has the motto 'Winter is coming'\n",
            "House Lannister with sigil golden lion has the motto 'Hear me roar'\n"
          ]
        }
      ]
    },
    {
      "cell_type": "code",
      "source": [
        "def get_motto(warrior):\n",
        "  print(warrior.motto())\n",
        "\n",
        "get_motto(arya)\n",
        "get_motto(tyrion)"
      ],
      "metadata": {
        "colab": {
          "base_uri": "https://localhost:8080/"
        },
        "id": "IdqluCw0XKOe",
        "outputId": "360d623a-b58f-4f2b-98ad-f097b670791e"
      },
      "execution_count": 16,
      "outputs": [
        {
          "output_type": "stream",
          "name": "stdout",
          "text": [
            "House Stark with sigil has the motto 'Winter is coming'\n",
            "House Lannister with sigil golden lion has the motto 'Hear me roar'\n"
          ]
        }
      ]
    },
    {
      "cell_type": "code",
      "source": [
        "try:\n",
        "  print(\"Good to go!\")\n",
        "  print('a', fwdfdwafwf)\n",
        "  print('b')\n",
        "except:\n",
        "  # This will checek for any exception and then execute this print statement\n",
        "  print(\"Oops!\")\n",
        "  print('c')\n",
        "  print('d')\n",
        "else:\n",
        "  print(\"No errors encountered!\")\n",
        "  print('e')\n",
        "  print('f')\n",
        ""
      ],
      "metadata": {
        "colab": {
          "base_uri": "https://localhost:8080/"
        },
        "id": "oLTxogfzXbTe",
        "outputId": "425ab5a0-54f4-468a-ec29-359503befe7f"
      },
      "execution_count": 17,
      "outputs": [
        {
          "output_type": "stream",
          "name": "stdout",
          "text": [
            "Good to go!\n",
            "Oops!\n",
            "c\n",
            "d\n"
          ]
        }
      ]
    },
    {
      "cell_type": "code",
      "source": [
        "try:\n",
        "  print(\"Execute try statements\")\n",
        "except:\n",
        "  print(\"Always execute finally code blocks\")\n",
        ""
      ],
      "metadata": {
        "colab": {
          "base_uri": "https://localhost:8080/"
        },
        "id": "1hSeN8-4Yifn",
        "outputId": "0b492a89-897a-47c9-ec04-48c3a45d7185"
      },
      "execution_count": 18,
      "outputs": [
        {
          "output_type": "stream",
          "name": "stdout",
          "text": [
            "Execute try statements\n"
          ]
        }
      ]
    },
    {
      "cell_type": "code",
      "source": [
        "a = 1\n",
        "b = 0.2\n",
        "\n",
        "\n",
        "\n",
        "try:\n",
        "  print('abc')\n",
        "except:\n",
        "  print('sddj string is not present')\n",
        ""
      ],
      "metadata": {
        "colab": {
          "base_uri": "https://localhost:8080/"
        },
        "id": "gYXCZ36SY0Ez",
        "outputId": "1ed48eb4-546b-432c-ef54-837fc17d54c0"
      },
      "execution_count": 19,
      "outputs": [
        {
          "output_type": "stream",
          "name": "stdout",
          "text": [
            "abc\n"
          ]
        }
      ]
    },
    {
      "cell_type": "code",
      "source": [
        "try:\n",
        "   a = 1\n",
        "   print(adefewdwd)\n",
        "   try:\n",
        "    print(type(afggdgdsgg))\n",
        "   except:\n",
        "    print('Error occured')\n",
        "except Exception as ex:\n",
        "  print('The error is : ', ex)\n",
        "  print(b, type(b))\n",
        "\n"
      ],
      "metadata": {
        "colab": {
          "base_uri": "https://localhost:8080/"
        },
        "id": "7A7X_5L1ZDT1",
        "outputId": "1804ff9c-d036-42c4-fc62-7bbabbbc4acb"
      },
      "execution_count": 21,
      "outputs": [
        {
          "output_type": "stream",
          "name": "stdout",
          "text": [
            "The error is :  name 'adefewdwd' is not defined\n",
            "0.2 <class 'float'>\n"
          ]
        }
      ]
    }
  ]
}