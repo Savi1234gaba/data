{
  "nbformat": 4,
  "nbformat_minor": 0,
  "metadata": {
    "colab": {
      "provenance": [],
      "authorship_tag": "ABX9TyOqFQ9boyT3nBEdrbr5zibU",
      "include_colab_link": true
    },
    "kernelspec": {
      "name": "python3",
      "display_name": "Python 3"
    },
    "language_info": {
      "name": "python"
    }
  },
  "cells": [
    {
      "cell_type": "markdown",
      "metadata": {
        "id": "view-in-github",
        "colab_type": "text"
      },
      "source": [
        "<a href=\"https://colab.research.google.com/github/Savi1234gaba/data/blob/main/Functions.ipynb\" target=\"_parent\"><img src=\"https://colab.research.google.com/assets/colab-badge.svg\" alt=\"Open In Colab\"/></a>"
      ]
    },
    {
      "cell_type": "code",
      "execution_count": null,
      "metadata": {
        "colab": {
          "base_uri": "https://localhost:8080/"
        },
        "id": "zZ4g6tqyiuQP",
        "outputId": "623de56b-7e7e-45cf-c06c-aa4412b9dff9"
      },
      "outputs": [
        {
          "output_type": "stream",
          "name": "stdout",
          "text": [
            "['I', 'c', 't', 'e', 'w', 'm', 'N', 'y', 'c', 'd', 'k', 'w', 'y', 't', 't', 's', 'l', 'm', 'c', 'y', 'i', '.', 'I', 'a', 'i', 'd']\n"
          ]
        }
      ],
      "source": [
        "heisenberg_quote = \"It ceases to exist without me. No you clearly don't know who you're talking to, so let me clue you in . I am in dang\"\n",
        "\n",
        "# Using the list comprehension, we can do the above task in this way\n",
        "words_by_walter = heisenberg_quote.split(' ')\n",
        "\n",
        "first_letters = [word[0] for word in words_by_walter]\n",
        "print(first_letters)"
      ]
    },
    {
      "cell_type": "code",
      "source": [
        "def extract_first_letters(sentence):\n",
        "  '''\n",
        "  This is a function takes a sentence as an input and returns\n",
        "  the list of first letters of each word\n",
        "  '''\n",
        "\n",
        "  #  Step 1 : Get the list of words in this sentence\n",
        "  words_in_sentence = sentence.split(' ')\n",
        "\n",
        "  # Step 2 : Write a list comprehension to extract the first letters\n",
        "  first_letters = [word[0] for word in words_in_sentence]\n",
        "\n",
        "  # Step 3 : Return the output list first_letters\n",
        "  return first_letters\n",
        "\n",
        "\n",
        "print(extract_first_letters(heisenberg_quote))\n",
        "\n",
        "\n"
      ],
      "metadata": {
        "id": "6K5mTDRhmYn3",
        "colab": {
          "base_uri": "https://localhost:8080/",
          "height": 211
        },
        "outputId": "f296a3f9-8b13-47bd-b672-b257428a7789"
      },
      "execution_count": 25,
      "outputs": [
        {
          "output_type": "error",
          "ename": "NameError",
          "evalue": "name 'heisenberg_quote' is not defined",
          "traceback": [
            "\u001b[0;31m---------------------------------------------------------------------------\u001b[0m",
            "\u001b[0;31mNameError\u001b[0m                                 Traceback (most recent call last)",
            "\u001b[0;32m<ipython-input-25-0f7369ce35be>\u001b[0m in \u001b[0;36m<cell line: 0>\u001b[0;34m()\u001b[0m\n\u001b[1;32m     15\u001b[0m \u001b[0;34m\u001b[0m\u001b[0m\n\u001b[1;32m     16\u001b[0m \u001b[0;34m\u001b[0m\u001b[0m\n\u001b[0;32m---> 17\u001b[0;31m \u001b[0mprint\u001b[0m\u001b[0;34m(\u001b[0m\u001b[0mextract_first_letters\u001b[0m\u001b[0;34m(\u001b[0m\u001b[0mheisenberg_quote\u001b[0m\u001b[0;34m)\u001b[0m\u001b[0;34m)\u001b[0m\u001b[0;34m\u001b[0m\u001b[0;34m\u001b[0m\u001b[0m\n\u001b[0m\u001b[1;32m     18\u001b[0m \u001b[0;34m\u001b[0m\u001b[0m\n\u001b[1;32m     19\u001b[0m \u001b[0;34m\u001b[0m\u001b[0m\n",
            "\u001b[0;31mNameError\u001b[0m: name 'heisenberg_quote' is not defined"
          ]
        }
      ]
    },
    {
      "cell_type": "code",
      "source": [
        "starwars_quote = \"May the force be with you.\"\n",
        "first_letters_starwars = extract_first_letters(starwars_quote)\n",
        "print(first_letters_starwars)"
      ],
      "metadata": {
        "colab": {
          "base_uri": "https://localhost:8080/"
        },
        "id": "6IOEslhj6wfJ",
        "outputId": "f99fba6f-90af-425c-fc9b-388bcaa36294"
      },
      "execution_count": 3,
      "outputs": [
        {
          "output_type": "stream",
          "name": "stdout",
          "text": [
            "['M', 't', 'f', 'b', 'w', 'y']\n"
          ]
        }
      ]
    },
    {
      "cell_type": "code",
      "source": [
        "def factorial(num):\n",
        "  '''\n",
        "  Function for calculating factorial of a number\n",
        "  '''\n",
        "  result=1\n",
        "  # Step 1 : Write an if statement to print a message if the input number is negative\n",
        "  if num < 0:\n",
        "    print(\"Factorial is not defined for negative numbers.\")\n",
        "\n",
        "  # Step 2: Write the elif statement to calculate the factorial\n",
        "  elif num > 0:\n",
        "    for i in range(1, num+1):\n",
        "      result = result * i\n",
        "    print(f\"The factorial of {num} is {result}.\")\n",
        "\n",
        "  # Step 3: Write the else statement to take care of the input 0\n",
        "  else:\n",
        "    result=1\n",
        "    print('factorial of 0 is ',result)\n",
        "\n",
        "  # Step 4 : Return the output variable result\n",
        "\n",
        "\n",
        "factorial(5)\n"
      ],
      "metadata": {
        "colab": {
          "base_uri": "https://localhost:8080/"
        },
        "id": "Mh04HaXz9QQU",
        "outputId": "cfba8e15-4c2d-4062-c8db-60a56387d1f4"
      },
      "execution_count": 5,
      "outputs": [
        {
          "output_type": "stream",
          "name": "stdout",
          "text": [
            "The factorial of 5 is 120.\n"
          ]
        }
      ]
    },
    {
      "cell_type": "code",
      "source": [
        "# Now let us define a list of numbers for which we want to calculate the factorials\n",
        "list_of_numbers = [3, 5, 8, 12, 4, 6]\n",
        "\n",
        "# We can write a list comprehension for the same task\n",
        "factorial_list = [factorial(number) for number in list_of_numbers if number%2!=0]\n",
        "print(factorial_list)"
      ],
      "metadata": {
        "colab": {
          "base_uri": "https://localhost:8080/"
        },
        "id": "mjQ1rmE9AJH9",
        "outputId": "52d1a1fd-dc8a-4ee8-b5d3-3e4a44dc3a63"
      },
      "execution_count": 6,
      "outputs": [
        {
          "output_type": "stream",
          "name": "stdout",
          "text": [
            "The factorial of 3 is 6.\n",
            "The factorial of 5 is 120.\n",
            "[None, None]\n"
          ]
        }
      ]
    },
    {
      "cell_type": "code",
      "source": [
        "def assignQuarter(user_date):\n",
        "  '''\n",
        "  This function prints the quarter for a given date string\n",
        "  '''\n",
        "\n",
        "  # Step 1 : Extract the year and month from the input date string\n",
        "  date_year = user_date[:4]\n",
        "  date_month = user_date[5:7]\n",
        "\n",
        "  # Step 2 : Store the quarter value in a string variable named quarter\n",
        "  if (date_month >= '01') & (date_month <='03'):\n",
        "    quarter = date_year + '-Q1'\n",
        "  elif (date_month >= '04') & (date_month <='06'):\n",
        "    quarter = date_year + '-Q2'\n",
        "  elif (date_month >= '07') & (date_month <='09'):\n",
        "    quarter = date_year + '-Q3'\n",
        "  else:\n",
        "    quarter = date_year + '-Q4'\n",
        "\n",
        "  # Step 3 : Print the message you want to display to the user. Here we are not returning anything\n",
        "  print(f'The corresponding quarter for the date {user_date} is {quarter}')\n",
        "  # return quarter\n",
        "\n",
        "\n",
        "sample_date = '2020-07-01'\n",
        "date_quarter = assignQuarter(sample_date)\n",
        "print(date_quarter)"
      ],
      "metadata": {
        "colab": {
          "base_uri": "https://localhost:8080/"
        },
        "id": "Pt94-iCIDTIF",
        "outputId": "ef523845-ebf1-4ef7-8602-5eced5ee026e"
      },
      "execution_count": 8,
      "outputs": [
        {
          "output_type": "stream",
          "name": "stdout",
          "text": [
            "The corresponding quarter for the date 2020-07-01 is 2020-Q3\n",
            "None\n"
          ]
        }
      ]
    },
    {
      "cell_type": "code",
      "source": [
        "my_quarter = assignQuarter(sample_date)"
      ],
      "metadata": {
        "colab": {
          "base_uri": "https://localhost:8080/"
        },
        "id": "i8vCYbgEK1p9",
        "outputId": "9745d585-cfd4-49f2-976a-c58ce19c136e"
      },
      "execution_count": 9,
      "outputs": [
        {
          "output_type": "stream",
          "name": "stdout",
          "text": [
            "The corresponding quarter for the date 2020-07-01 is 2020-Q3\n"
          ]
        }
      ]
    },
    {
      "cell_type": "code",
      "source": [
        "print(my_quarter)"
      ],
      "metadata": {
        "colab": {
          "base_uri": "https://localhost:8080/"
        },
        "id": "ef2JGR2LK9xZ",
        "outputId": "3e5a2b89-fc1b-4537-d3fd-0246ebbe0ac2"
      },
      "execution_count": 10,
      "outputs": [
        {
          "output_type": "stream",
          "name": "stdout",
          "text": [
            "None\n"
          ]
        }
      ]
    },
    {
      "cell_type": "code",
      "source": [
        "assignQuarter\n",
        "def check_even_or_odd(num):\n",
        "  '''\n",
        "  This function checks whether a number is odd or even and then returns the corresponding string\n",
        "  '''\n",
        "  print(f'Given number is {num}')\n",
        "\n",
        "  # Step 1 : Check if the number is even. If it is return 'even'\n",
        "  if num%2 == 0:\n",
        "    return 'even'\n",
        "\n",
        "  # Step 2 : Else just return 'odd'\n",
        "\n",
        "  return 'odd'\n",
        "\n",
        "\n",
        "is_even_odd = check_even_or_odd(10)\n",
        "print(is_even_odd)\n"
      ],
      "metadata": {
        "colab": {
          "base_uri": "https://localhost:8080/"
        },
        "id": "bvx71XxPLE4f",
        "outputId": "a8c1479c-8cd9-41ea-d593-815b6fa2ce4c"
      },
      "execution_count": 11,
      "outputs": [
        {
          "output_type": "stream",
          "name": "stdout",
          "text": [
            "Given number is 10\n",
            "even\n"
          ]
        }
      ]
    },
    {
      "cell_type": "code",
      "source": [
        "heights = [172,175,170,168,170,200]\n",
        "\n",
        "def list_append(my_list, elem):\n",
        "  '''\n",
        "  This function appends an element to the list\n",
        "  '''\n",
        "  # Step 1 : Add the element to the list\n",
        "  new_list = my_list + [elem]\n",
        "\n",
        "  # Step 2 : Return the new_list\n",
        "  return new_list\n",
        "\n",
        "print(heights)"
      ],
      "metadata": {
        "colab": {
          "base_uri": "https://localhost:8080/"
        },
        "id": "ec_aiKNlMf5F",
        "outputId": "f7dc2b16-b493-46de-fadf-5a4f42a59bb4"
      },
      "execution_count": 12,
      "outputs": [
        {
          "output_type": "stream",
          "name": "stdout",
          "text": [
            "[172, 175, 170, 168, 170, 200]\n"
          ]
        }
      ]
    },
    {
      "cell_type": "code",
      "source": [
        "list_append(heights,190)"
      ],
      "metadata": {
        "colab": {
          "base_uri": "https://localhost:8080/"
        },
        "id": "bpKiFQimNXe7",
        "outputId": "afac85e3-ba8e-4530-b026-6e9a233b9952"
      },
      "execution_count": 13,
      "outputs": [
        {
          "output_type": "execute_result",
          "data": {
            "text/plain": [
              "[172, 175, 170, 168, 170, 200, 190]"
            ]
          },
          "metadata": {},
          "execution_count": 13
        }
      ]
    },
    {
      "cell_type": "code",
      "source": [
        "print(heights)"
      ],
      "metadata": {
        "colab": {
          "base_uri": "https://localhost:8080/"
        },
        "id": "tL7r01RVNmLp",
        "outputId": "8ab42e8c-ad27-4c70-be1c-b00149fd1164"
      },
      "execution_count": 14,
      "outputs": [
        {
          "output_type": "stream",
          "name": "stdout",
          "text": [
            "[172, 175, 170, 168, 170, 200]\n"
          ]
        }
      ]
    },
    {
      "cell_type": "code",
      "source": [
        "list_append(heights, elem = 40)"
      ],
      "metadata": {
        "colab": {
          "base_uri": "https://localhost:8080/"
        },
        "id": "R7TUgVOkNpP-",
        "outputId": "f67a63fd-01f5-445e-fe11-2ed7a3729a84"
      },
      "execution_count": 15,
      "outputs": [
        {
          "output_type": "execute_result",
          "data": {
            "text/plain": [
              "[172, 175, 170, 168, 170, 200, 40]"
            ]
          },
          "metadata": {},
          "execution_count": 15
        }
      ]
    },
    {
      "cell_type": "code",
      "source": [
        "print(heights)"
      ],
      "metadata": {
        "colab": {
          "base_uri": "https://localhost:8080/"
        },
        "id": "5BPIrRbVNz7y",
        "outputId": "f0f38a12-4bc3-4f6d-8820-dfae1dd8d769"
      },
      "execution_count": 16,
      "outputs": [
        {
          "output_type": "stream",
          "name": "stdout",
          "text": [
            "[172, 175, 170, 168, 170, 200]\n"
          ]
        }
      ]
    },
    {
      "cell_type": "code",
      "source": [
        "heights.append(60)\n",
        "\n",
        "print(heights)"
      ],
      "metadata": {
        "colab": {
          "base_uri": "https://localhost:8080/"
        },
        "id": "3PabUI8YN7cd",
        "outputId": "e90c51bd-9af8-4c9f-ac67-de150486b6c9"
      },
      "execution_count": 17,
      "outputs": [
        {
          "output_type": "stream",
          "name": "stdout",
          "text": [
            "[172, 175, 170, 168, 170, 200, 60]\n"
          ]
        }
      ]
    },
    {
      "cell_type": "code",
      "source": [
        "def experiment():\n",
        "  global x\n",
        "  x = 50\n",
        "\n",
        "  return x\n",
        "\n",
        "\n",
        "x = 25\n",
        "\n",
        "\n",
        "experiment()"
      ],
      "metadata": {
        "colab": {
          "base_uri": "https://localhost:8080/"
        },
        "id": "WFFvMpPcOHUp",
        "outputId": "54a73df9-28b1-406f-f71b-4b21be47a550"
      },
      "execution_count": 18,
      "outputs": [
        {
          "output_type": "execute_result",
          "data": {
            "text/plain": [
              "50"
            ]
          },
          "metadata": {},
          "execution_count": 18
        }
      ]
    },
    {
      "cell_type": "code",
      "source": [
        "experiment()"
      ],
      "metadata": {
        "colab": {
          "base_uri": "https://localhost:8080/"
        },
        "id": "WyYtTA0LOaRr",
        "outputId": "14744b17-76d0-438c-bc59-cdd3a202503c"
      },
      "execution_count": 19,
      "outputs": [
        {
          "output_type": "execute_result",
          "data": {
            "text/plain": [
              "50"
            ]
          },
          "metadata": {},
          "execution_count": 19
        }
      ]
    },
    {
      "cell_type": "code",
      "source": [
        "x"
      ],
      "metadata": {
        "colab": {
          "base_uri": "https://localhost:8080/"
        },
        "id": "8XhApufOOdM9",
        "outputId": "f1620259-a240-4b79-8cdb-cb3a78b09bcf"
      },
      "execution_count": 20,
      "outputs": [
        {
          "output_type": "execute_result",
          "data": {
            "text/plain": [
              "50"
            ]
          },
          "metadata": {},
          "execution_count": 20
        }
      ]
    },
    {
      "cell_type": "code",
      "source": [
        "def new_experiment():\n",
        "\n",
        "  x = 50\n",
        "\n",
        "  return x\n",
        "\n",
        "x = 40\n",
        "\n",
        "x"
      ],
      "metadata": {
        "colab": {
          "base_uri": "https://localhost:8080/"
        },
        "id": "by-PzfRkOe_n",
        "outputId": "5e94813d-71f5-4a27-b529-2598d2417503"
      },
      "execution_count": 23,
      "outputs": [
        {
          "output_type": "execute_result",
          "data": {
            "text/plain": [
              "40"
            ]
          },
          "metadata": {},
          "execution_count": 23
        }
      ]
    },
    {
      "cell_type": "code",
      "source": [
        "new_experiment()"
      ],
      "metadata": {
        "colab": {
          "base_uri": "https://localhost:8080/"
        },
        "id": "8-bwyQqPO05b",
        "outputId": "bdf75554-8c18-4cb4-8954-b26dc15c6e4c"
      },
      "execution_count": 24,
      "outputs": [
        {
          "output_type": "execute_result",
          "data": {
            "text/plain": [
              "50"
            ]
          },
          "metadata": {},
          "execution_count": 24
        }
      ]
    }
  ]
}