{
  "nbformat": 4,
  "nbformat_minor": 0,
  "metadata": {
    "colab": {
      "provenance": [],
      "authorship_tag": "ABX9TyOp7ZV0cfJXgjVYLfD/Z6mV",
      "include_colab_link": true
    },
    "kernelspec": {
      "name": "python3",
      "display_name": "Python 3"
    },
    "language_info": {
      "name": "python"
    }
  },
  "cells": [
    {
      "cell_type": "markdown",
      "metadata": {
        "id": "view-in-github",
        "colab_type": "text"
      },
      "source": [
        "<a href=\"https://colab.research.google.com/github/Savi1234gaba/data/blob/main/N2.ipynb\" target=\"_parent\"><img src=\"https://colab.research.google.com/assets/colab-badge.svg\" alt=\"Open In Colab\"/></a>"
      ]
    },
    {
      "source": [
        "import numpy as np # import the numpy library and give it the alias 'np'\n",
        "\n",
        "# Create a 2 D Array\n",
        "arravali = np.array(np.random.randint(10,45,(8,2)))\n",
        "print(f\"The defined array is \\n{arravali}\")\n",
        "print(f\" \\n The shape of the array is {arravali}\")"
      ],
      "cell_type": "code",
      "metadata": {
        "colab": {
          "base_uri": "https://localhost:8080/"
        },
        "id": "dLL2aAFBFpb5",
        "outputId": "ec9139f7-7a93-4c1a-cdad-60b83a466bde"
      },
      "execution_count": null,
      "outputs": [
        {
          "output_type": "stream",
          "name": "stdout",
          "text": [
            "The defined array is \n",
            "[[16 14]\n",
            " [40 34]\n",
            " [20 30]\n",
            " [37 38]\n",
            " [12 41]\n",
            " [36 20]\n",
            " [27 24]\n",
            " [11 14]]\n",
            " \n",
            " The shape of the array is [[16 14]\n",
            " [40 34]\n",
            " [20 30]\n",
            " [37 38]\n",
            " [12 41]\n",
            " [36 20]\n",
            " [27 24]\n",
            " [11 14]]\n"
          ]
        }
      ]
    },
    {
      "cell_type": "code",
      "source": [
        "# Storing the transpose in another matrix object\n",
        "nilgiri =np.transpose(arravali)\n",
        "print(f\"The transpose of the array is \\n{nilgiri}\")\n",
        "print(f\" \\n The shape of the array is {nilgiri.shape}\")"
      ],
      "metadata": {
        "colab": {
          "base_uri": "https://localhost:8080/"
        },
        "id": "mp8OKEraFWbI",
        "outputId": "b5962ab7-87b3-492e-c72e-8dec52ccfeb3"
      },
      "execution_count": null,
      "outputs": [
        {
          "output_type": "stream",
          "name": "stdout",
          "text": [
            "The transpose of the array is \n",
            "[[16 40 20 37 12 36 27 11]\n",
            " [14 34 30 38 41 20 24 14]]\n",
            " \n",
            " The shape of the array is (2, 8)\n"
          ]
        }
      ]
    },
    {
      "cell_type": "code",
      "source": [
        "# 3D Array\n",
        "random_3D_array = np.array(np.random.randint(10,45,(3,2,4)))\n",
        "print(f\"The defined array is \\n{random_3D_array}\")\n",
        "print(f\" \\n The shape of the array is {random_3D_array.shape}\")"
      ],
      "metadata": {
        "colab": {
          "base_uri": "https://localhost:8080/"
        },
        "id": "70svIb3OGNmv",
        "outputId": "ba1346bd-a288-44e2-a754-10a3b05d84ee"
      },
      "execution_count": null,
      "outputs": [
        {
          "output_type": "stream",
          "name": "stdout",
          "text": [
            "The defined array is \n",
            "[[[43 11 40 38]\n",
            "  [43 12 41 14]]\n",
            "\n",
            " [[35 10 28 36]\n",
            "  [27 20 43 15]]\n",
            "\n",
            " [[41 21 35 30]\n",
            "  [30 26 16 12]]]\n",
            " \n",
            " The shape of the array is (3, 2, 4)\n"
          ]
        }
      ]
    },
    {
      "source": [
        "# 3D Array\n",
        "random_3D_array = np.array(np.random.randint(10,45,(3,2,4)))\n",
        "print(f\"The defined array is \\n{random_3D_array}\")\n",
        "print(f\" \\n The shape of the array is {random_3D_array.shape}\")"
      ],
      "cell_type": "code",
      "metadata": {
        "colab": {
          "base_uri": "https://localhost:8080/"
        },
        "id": "_a85OrBJHs1F",
        "outputId": "6eb0b9f3-9354-4086-94d3-caac7c569811"
      },
      "execution_count": null,
      "outputs": [
        {
          "output_type": "stream",
          "name": "stdout",
          "text": [
            "The defined array is \n",
            "[[[37 40 40 22]\n",
            "  [30 20 38 18]]\n",
            "\n",
            " [[42 20 12 29]\n",
            "  [43 25 40 39]]\n",
            "\n",
            " [[43 40 23 33]\n",
            "  [30 18 14 34]]]\n",
            " \n",
            " The shape of the array is (3, 2, 4)\n"
          ]
        }
      ]
    },
    {
      "source": [
        "# Now we can reshape this to 1-D,2-D or 3-D array\n",
        "new_shape = (2,6,2)\n",
        "# Replacing random_cohort with random_3D_array as it was likely the variable intended to be reshaped\n",
        "reshaped_random_cohort = np.reshape(random_3D_array,new_shape)\n",
        "print(f\"The reshaped array is \\n{reshaped_random_cohort}\")\n",
        "print(f\" \\n The shape of the array is {reshaped_random_cohort.shape}\")"
      ],
      "cell_type": "code",
      "metadata": {
        "colab": {
          "base_uri": "https://localhost:8080/"
        },
        "id": "5U_5dnA8IoIk",
        "outputId": "b611dae0-91ad-419c-c8f4-5aec6137b6e6"
      },
      "execution_count": null,
      "outputs": [
        {
          "output_type": "stream",
          "name": "stdout",
          "text": [
            "The reshaped array is \n",
            "[[[37 40]\n",
            "  [40 22]\n",
            "  [30 20]\n",
            "  [38 18]\n",
            "  [42 20]\n",
            "  [12 29]]\n",
            "\n",
            " [[43 25]\n",
            "  [40 39]\n",
            "  [43 40]\n",
            "  [23 33]\n",
            "  [30 18]\n",
            "  [14 34]]]\n",
            " \n",
            " The shape of the array is (2, 6, 2)\n"
          ]
        }
      ]
    },
    {
      "cell_type": "code",
      "source": [
        "# Create a three-dimensional array\n",
        "random_3D_cohort = np.array(np.random.randint(10,45,(3,6,2)))\n",
        "print(f\"The defined array is \\n{random_3D_cohort}\")\n",
        "print(f\" \\n The shape of the array is (random_3D_cohort.shape)\")"
      ],
      "metadata": {
        "colab": {
          "base_uri": "https://localhost:8080/"
        },
        "id": "OXqQLflbLeO1",
        "outputId": "1520b5ba-5bbf-4eca-8e67-b9b76238ad12"
      },
      "execution_count": null,
      "outputs": [
        {
          "output_type": "stream",
          "name": "stdout",
          "text": [
            "The defined array is \n",
            "[[[26 19]\n",
            "  [33 40]\n",
            "  [27 29]\n",
            "  [11 39]\n",
            "  [25 20]\n",
            "  [35 17]]\n",
            "\n",
            " [[40 28]\n",
            "  [15 26]\n",
            "  [24 18]\n",
            "  [40 16]\n",
            "  [26 40]\n",
            "  [35 36]]\n",
            "\n",
            " [[36 10]\n",
            "  [34 44]\n",
            "  [26 33]\n",
            "  [26 34]\n",
            "  [36 24]\n",
            "  [30 21]]]\n",
            " \n",
            " The shape of the array is (random_3D_cohort.shape)\n"
          ]
        }
      ]
    },
    {
      "cell_type": "code",
      "source": [
        "# Resize the created 3D array\n",
        "new_shape = (2,3,6)\n",
        "resized_random_3D_cohort = np.resize(random_3D_cohort,new_shape)\n",
        "print(f\"The resized array is \\n{resized_random_3D_cohort}\")\n",
        "print(f\" \\n The shape of the array is {resized_random_3D_cohort.shape}\")"
      ],
      "metadata": {
        "colab": {
          "base_uri": "https://localhost:8080/"
        },
        "id": "7kB5PF8MWJ9X",
        "outputId": "327c5b98-2f5e-4afb-f69d-c72622b5ab6a"
      },
      "execution_count": null,
      "outputs": [
        {
          "output_type": "stream",
          "name": "stdout",
          "text": [
            "The resized array is \n",
            "[[[26 19 33 40 27 29]\n",
            "  [11 39 25 20 35 17]\n",
            "  [40 28 15 26 24 18]]\n",
            "\n",
            " [[40 16 26 40 35 36]\n",
            "  [36 10 34 44 26 33]\n",
            "  [26 34 36 24 30 21]]]\n",
            " \n",
            " The shape of the array is (2, 3, 6)\n"
          ]
        }
      ]
    },
    {
      "cell_type": "code",
      "source": [
        "random_3D_cohort.resize(new_shape)\n",
        "\n",
        "random_3D_cohort"
      ],
      "metadata": {
        "colab": {
          "base_uri": "https://localhost:8080/"
        },
        "id": "Qr-dWKXJW4mn",
        "outputId": "1056f3a3-7f54-476c-a508-6b55333f5263"
      },
      "execution_count": null,
      "outputs": [
        {
          "output_type": "execute_result",
          "data": {
            "text/plain": [
              "array([[[26, 19, 33, 40, 27, 29],\n",
              "        [11, 39, 25, 20, 35, 17],\n",
              "        [40, 28, 15, 26, 24, 18]],\n",
              "\n",
              "       [[40, 16, 26, 40, 35, 36],\n",
              "        [36, 10, 34, 44, 26, 33],\n",
              "        [26, 34, 36, 24, 30, 21]]])"
            ]
          },
          "metadata": {},
          "execution_count": 14
        }
      ]
    },
    {
      "cell_type": "code",
      "source": [
        "# Initialize a 3D array\n",
        "random_3D_cohort = np.array(np.random.randint(10,45,(2,4,6)))\n",
        "print(f\"The defined array is \\n{random_3D_cohort}\")\n",
        "print(f\" \\n The shape of the array is {random_3D_cohort.shape}\")"
      ],
      "metadata": {
        "colab": {
          "base_uri": "https://localhost:8080/"
        },
        "id": "lFcsE5twXFPn",
        "outputId": "46e71fa8-1289-4455-ea06-11efdf9aea4c"
      },
      "execution_count": null,
      "outputs": [
        {
          "output_type": "stream",
          "name": "stdout",
          "text": [
            "The defined array is \n",
            "[[[19 26 38 41 34 21]\n",
            "  [19 26 41 30 27 13]\n",
            "  [19 42 27 20 10 32]\n",
            "  [15 40 35 40 37 13]]\n",
            "\n",
            " [[13 12 37 11 39 25]\n",
            "  [36 14 24 32 19 14]\n",
            "  [36 44 14 35 14 25]\n",
            "  [34 28 34 27 29 40]]]\n",
            " \n",
            " The shape of the array is (2, 4, 6)\n"
          ]
        }
      ]
    },
    {
      "cell_type": "code",
      "source": [
        "# Flatten the 3d array\n",
        "random_3D_cohort.flatten()"
      ],
      "metadata": {
        "colab": {
          "base_uri": "https://localhost:8080/"
        },
        "id": "Fg9ZIRUdXkTc",
        "outputId": "d062a90c-c051-4815-c271-22fde7be5e29"
      },
      "execution_count": null,
      "outputs": [
        {
          "output_type": "execute_result",
          "data": {
            "text/plain": [
              "array([19, 26, 38, 41, 34, 21, 19, 26, 41, 30, 27, 13, 19, 42, 27, 20, 10,\n",
              "       32, 15, 40, 35, 40, 37, 13, 13, 12, 37, 11, 39, 25, 36, 14, 24, 32,\n",
              "       19, 14, 36, 44, 14, 35, 14, 25, 34, 28, 34, 27, 29, 40])"
            ]
          },
          "metadata": {},
          "execution_count": 16
        }
      ]
    },
    {
      "cell_type": "code",
      "source": [
        "# Flattens the array in row-major order with 'C'\n",
        "random_3D_cohort.flatten(order='F')"
      ],
      "metadata": {
        "colab": {
          "base_uri": "https://localhost:8080/"
        },
        "id": "wFzZ4sgxXuB0",
        "outputId": "df7814b8-2990-4d01-af39-dc7b6cae15bd"
      },
      "execution_count": null,
      "outputs": [
        {
          "output_type": "execute_result",
          "data": {
            "text/plain": [
              "array([19, 13, 19, 36, 19, 36, 15, 34, 26, 12, 26, 14, 42, 44, 40, 28, 38,\n",
              "       37, 41, 24, 27, 14, 35, 34, 41, 11, 30, 32, 20, 35, 40, 27, 34, 39,\n",
              "       27, 19, 10, 14, 37, 29, 21, 25, 13, 14, 32, 25, 13, 40])"
            ]
          },
          "metadata": {},
          "execution_count": 17
        }
      ]
    },
    {
      "source": [
        "import numpy as np\n",
        "a = np.random.randint(10, 45, size=(2, 3, 4))   # Axis 0 - 2 ; Axis 1- 3 ; Axis 2 - 4\n",
        "print(a)\n",
        "print(a.shape)"
      ],
      "cell_type": "code",
      "metadata": {
        "colab": {
          "base_uri": "https://localhost:8080/"
        },
        "id": "6UEXjBjQYyb3",
        "outputId": "31840683-b438-414c-fd58-19be343716df"
      },
      "execution_count": null,
      "outputs": [
        {
          "output_type": "stream",
          "name": "stdout",
          "text": [
            "[[[29 17 41 16]\n",
            "  [39 13 34 41]\n",
            "  [11 43 12 40]]\n",
            "\n",
            " [[31 19 32 10]\n",
            "  [10 22 39 14]\n",
            "  [32 10 30 26]]]\n",
            "(2, 3, 4)\n"
          ]
        }
      ]
    },
    {
      "cell_type": "code",
      "source": [
        "# Insert along axis = 0\n",
        "np.insert(a,1,100,axis=0)"
      ],
      "metadata": {
        "colab": {
          "base_uri": "https://localhost:8080/"
        },
        "id": "CJK0euh0Y7Xz",
        "outputId": "dd3e0420-dc99-4f65-b780-f9956f1e0349"
      },
      "execution_count": null,
      "outputs": [
        {
          "output_type": "execute_result",
          "data": {
            "text/plain": [
              "array([[[ 29,  17,  41,  16],\n",
              "        [ 39,  13,  34,  41],\n",
              "        [ 11,  43,  12,  40]],\n",
              "\n",
              "       [[100, 100, 100, 100],\n",
              "        [100, 100, 100, 100],\n",
              "        [100, 100, 100, 100]],\n",
              "\n",
              "       [[ 31,  19,  32,  10],\n",
              "        [ 10,  22,  39,  14],\n",
              "        [ 32,  10,  30,  26]]])"
            ]
          },
          "metadata": {},
          "execution_count": 20
        }
      ]
    },
    {
      "cell_type": "code",
      "source": [
        "# Insert along axis = 1\n",
        "np.insert(a,0,50,axis=1)\n"
      ],
      "metadata": {
        "colab": {
          "base_uri": "https://localhost:8080/"
        },
        "id": "WW7u9-GtZKuJ",
        "outputId": "20a24f07-4949-4d41-874a-0ca062d52a48"
      },
      "execution_count": null,
      "outputs": [
        {
          "output_type": "execute_result",
          "data": {
            "text/plain": [
              "array([[[50, 50, 50, 50],\n",
              "        [29, 17, 41, 16],\n",
              "        [39, 13, 34, 41],\n",
              "        [11, 43, 12, 40]],\n",
              "\n",
              "       [[50, 50, 50, 50],\n",
              "        [31, 19, 32, 10],\n",
              "        [10, 22, 39, 14],\n",
              "        [32, 10, 30, 26]]])"
            ]
          },
          "metadata": {},
          "execution_count": 21
        }
      ]
    },
    {
      "cell_type": "code",
      "source": [
        "# Insert along axis = 2\n",
        "np.insert(a,0,200,axis=2)"
      ],
      "metadata": {
        "colab": {
          "base_uri": "https://localhost:8080/"
        },
        "id": "qXrPtSUIZiHL",
        "outputId": "51ca92c8-8949-4a65-801f-adacfe05bbe8"
      },
      "execution_count": null,
      "outputs": [
        {
          "output_type": "execute_result",
          "data": {
            "text/plain": [
              "array([[[200,  29,  17,  41,  16],\n",
              "        [200,  39,  13,  34,  41],\n",
              "        [200,  11,  43,  12,  40]],\n",
              "\n",
              "       [[200,  31,  19,  32,  10],\n",
              "        [200,  10,  22,  39,  14],\n",
              "        [200,  32,  10,  30,  26]]])"
            ]
          },
          "metadata": {},
          "execution_count": 22
        }
      ]
    },
    {
      "cell_type": "code",
      "source": [
        "# Append a value to the array. It flattens the array and append -99 to the end\n",
        "np.append(a,50)"
      ],
      "metadata": {
        "colab": {
          "base_uri": "https://localhost:8080/"
        },
        "id": "U-W9q3sRaaBB",
        "outputId": "2b257864-3569-4324-b9fb-8f39db9cf0c3"
      },
      "execution_count": null,
      "outputs": [
        {
          "output_type": "execute_result",
          "data": {
            "text/plain": [
              "array([29, 17, 41, 16, 39, 13, 34, 41, 11, 43, 12, 40, 31, 19, 32, 10, 10,\n",
              "       22, 39, 14, 32, 10, 30, 26, 50])"
            ]
          },
          "metadata": {},
          "execution_count": 25
        }
      ]
    },
    {
      "source": [
        "# Fix the axis other than axis of appending\n",
        "import numpy as np\n",
        "b = np.random.rand(2,6).reshape(2,3,2)  # Changed shape to (2,3,2) or (2,2,3) or any other shape with total elements 12\n",
        "print(b)\n"
      ],
      "cell_type": "code",
      "metadata": {
        "colab": {
          "base_uri": "https://localhost:8080/"
        },
        "id": "XsYUFDN9bK2W",
        "outputId": "a5852ee1-d040-46c7-c0e3-3a02da99116e"
      },
      "execution_count": null,
      "outputs": [
        {
          "output_type": "stream",
          "name": "stdout",
          "text": [
            "[[[0.1822896  0.10174761]\n",
            "  [0.98931743 0.17388288]\n",
            "  [0.74029333 0.01462889]]\n",
            "\n",
            " [[0.20905818 0.81153636]\n",
            "  [0.66825377 0.35094933]\n",
            "  [0.43491703 0.08507363]]]\n"
          ]
        }
      ]
    },
    {
      "cell_type": "code",
      "source": [
        "print(a)\n",
        "print(a.shape)"
      ],
      "metadata": {
        "colab": {
          "base_uri": "https://localhost:8080/"
        },
        "id": "4sowY_2ibN1v",
        "outputId": "a54603fb-8c5a-4449-c176-f3293992f188"
      },
      "execution_count": null,
      "outputs": [
        {
          "output_type": "stream",
          "name": "stdout",
          "text": [
            "[[[29 17 41 16]\n",
            "  [39 13 34 41]\n",
            "  [11 43 12 40]]\n",
            "\n",
            " [[31 19 32 10]\n",
            "  [10 22 39 14]\n",
            "  [32 10 30 26]]]\n",
            "(2, 3, 4)\n"
          ]
        }
      ]
    },
    {
      "source": [
        "a = np.random.randint(2, 6, size=(2, 3, 3))  # Corrected syntax\n",
        "print(a)\n",
        "print(a.shape)"
      ],
      "cell_type": "code",
      "metadata": {
        "colab": {
          "base_uri": "https://localhost:8080/"
        },
        "id": "CJBDlPAjb16p",
        "outputId": "c59bc395-6e37-428f-dc5c-302bce187eba"
      },
      "execution_count": null,
      "outputs": [
        {
          "output_type": "stream",
          "name": "stdout",
          "text": [
            "[[[3 5 2]\n",
            "  [5 2 5]\n",
            "  [4 4 3]]\n",
            "\n",
            " [[5 5 5]\n",
            "  [4 3 3]\n",
            "  [5 5 2]]]\n",
            "(2, 3, 3)\n"
          ]
        }
      ]
    },
    {
      "cell_type": "code",
      "source": [
        "# Delete along axis=0\n",
        "np.delete(a,(0),axis = 0)"
      ],
      "metadata": {
        "colab": {
          "base_uri": "https://localhost:8080/"
        },
        "id": "QxsQOa6zb4wq",
        "outputId": "b85d8f48-a96e-4034-b8bb-9dd478c38276"
      },
      "execution_count": null,
      "outputs": [
        {
          "output_type": "execute_result",
          "data": {
            "text/plain": [
              "array([[[5, 5, 5],\n",
              "        [4, 3, 3],\n",
              "        [5, 5, 2]]])"
            ]
          },
          "metadata": {},
          "execution_count": 37
        }
      ]
    },
    {
      "cell_type": "code",
      "source": [
        "# Delete along axis=1\n",
        "np.delete(a,(0,2),axis = 1)"
      ],
      "metadata": {
        "colab": {
          "base_uri": "https://localhost:8080/"
        },
        "id": "6X4MIa_AcEgj",
        "outputId": "06448510-b27f-4f20-b703-5dcf11793272"
      },
      "execution_count": null,
      "outputs": [
        {
          "output_type": "execute_result",
          "data": {
            "text/plain": [
              "array([[[5, 2, 5]],\n",
              "\n",
              "       [[4, 3, 3]]])"
            ]
          },
          "metadata": {},
          "execution_count": 38
        }
      ]
    },
    {
      "cell_type": "code",
      "source": [
        "a"
      ],
      "metadata": {
        "colab": {
          "base_uri": "https://localhost:8080/"
        },
        "id": "MWZbBGGRcOy_",
        "outputId": "cf53575b-9f85-47e4-d34d-66cfe7d7c4ab"
      },
      "execution_count": null,
      "outputs": [
        {
          "output_type": "execute_result",
          "data": {
            "text/plain": [
              "array([[[3, 5, 2],\n",
              "        [5, 2, 5],\n",
              "        [4, 4, 3]],\n",
              "\n",
              "       [[5, 5, 5],\n",
              "        [4, 3, 3],\n",
              "        [5, 5, 2]]])"
            ]
          },
          "metadata": {},
          "execution_count": 39
        }
      ]
    },
    {
      "cell_type": "code",
      "source": [
        "# Delete along axis=2\n",
        "np.delete(a,(0,1),axis = 2)"
      ],
      "metadata": {
        "colab": {
          "base_uri": "https://localhost:8080/"
        },
        "id": "Sxew4-gzcRCU",
        "outputId": "65717392-e4d0-4ed2-bff4-9af38dc6584c"
      },
      "execution_count": null,
      "outputs": [
        {
          "output_type": "execute_result",
          "data": {
            "text/plain": [
              "array([[[2],\n",
              "        [5],\n",
              "        [3]],\n",
              "\n",
              "       [[5],\n",
              "        [3],\n",
              "        [2]]])"
            ]
          },
          "metadata": {},
          "execution_count": 40
        }
      ]
    },
    {
      "cell_type": "code",
      "source": [
        "#Initialized array\n",
        "a = np.random.randint(2,20,(2,3,3))\n",
        "print(a)\n",
        "print(a.shape)"
      ],
      "metadata": {
        "colab": {
          "base_uri": "https://localhost:8080/"
        },
        "id": "q_UO98KVchgF",
        "outputId": "e127bede-5184-4fe1-9603-a3be905c3852"
      },
      "execution_count": null,
      "outputs": [
        {
          "output_type": "stream",
          "name": "stdout",
          "text": [
            "[[[16 12 15]\n",
            "  [ 7 10  3]\n",
            "  [ 5 16 16]]\n",
            "\n",
            " [[16 12  7]\n",
            "  [14  5  7]\n",
            "  [ 3 17 18]]]\n",
            "(2, 3, 3)\n"
          ]
        }
      ]
    },
    {
      "cell_type": "code",
      "source": [
        "np.unique(a)"
      ],
      "metadata": {
        "colab": {
          "base_uri": "https://localhost:8080/"
        },
        "id": "LJoVpw-9cucx",
        "outputId": "47e2f0a8-beaa-4bfe-ca55-d45b226ed2c2"
      },
      "execution_count": null,
      "outputs": [
        {
          "output_type": "execute_result",
          "data": {
            "text/plain": [
              "array([ 3,  5,  7, 10, 12, 14, 15, 16, 17, 18])"
            ]
          },
          "metadata": {},
          "execution_count": 42
        }
      ]
    },
    {
      "cell_type": "code",
      "source": [
        "# return_counts= True\n",
        "np.unique(a,return_counts=True) # Returns tuple\n"
      ],
      "metadata": {
        "colab": {
          "base_uri": "https://localhost:8080/"
        },
        "id": "IE-zcO1Vcy_V",
        "outputId": "5475a74c-a75a-4982-e1d5-4c188fd6ace5"
      },
      "execution_count": null,
      "outputs": [
        {
          "output_type": "execute_result",
          "data": {
            "text/plain": [
              "(array([ 3,  5,  7, 10, 12, 14, 15, 16, 17, 18]),\n",
              " array([2, 2, 3, 1, 2, 1, 1, 4, 1, 1]))"
            ]
          },
          "metadata": {},
          "execution_count": 43
        }
      ]
    },
    {
      "cell_type": "code",
      "source": [
        "# return_index = True\n",
        "np.unique(a,return_counts=True,return_index=True)"
      ],
      "metadata": {
        "colab": {
          "base_uri": "https://localhost:8080/"
        },
        "id": "hPfmgO3cdDR_",
        "outputId": "6a00eaf4-5108-4f4b-9ad9-039ab3c74266"
      },
      "execution_count": null,
      "outputs": [
        {
          "output_type": "execute_result",
          "data": {
            "text/plain": [
              "(array([ 3,  5,  7, 10, 12, 14, 15, 16, 17, 18]),\n",
              " array([ 5,  6,  3,  4,  1, 12,  2,  0, 16, 17]),\n",
              " array([2, 2, 3, 1, 2, 1, 1, 4, 1, 1]))"
            ]
          },
          "metadata": {},
          "execution_count": 44
        }
      ]
    },
    {
      "cell_type": "code",
      "source": [
        "# Let take an example of a list\n",
        "a = [1,2,3]\n",
        "b = a\n",
        "b[0] = 10\n",
        "print(b)\n",
        "print(a)\n"
      ],
      "metadata": {
        "colab": {
          "base_uri": "https://localhost:8080/"
        },
        "id": "uTcOVz5gdX0z",
        "outputId": "b08982a3-5801-4a6a-d218-d75403a9f0fb"
      },
      "execution_count": null,
      "outputs": [
        {
          "output_type": "stream",
          "name": "stdout",
          "text": [
            "[10, 2, 3]\n",
            "[10, 2, 3]\n"
          ]
        }
      ]
    },
    {
      "cell_type": "code",
      "source": [
        "# Lets use the copy method\n",
        "a = [1,2,3]\n",
        "b = a.copy()\n",
        "b[0] = 10\n",
        "print(b)\n",
        "print(a)"
      ],
      "metadata": {
        "colab": {
          "base_uri": "https://localhost:8080/"
        },
        "id": "hP6nldpLdqbG",
        "outputId": "1abde177-2a55-466a-e34e-82449057cbc5"
      },
      "execution_count": null,
      "outputs": [
        {
          "output_type": "stream",
          "name": "stdout",
          "text": [
            "[10, 2, 3]\n",
            "[1, 2, 3]\n"
          ]
        }
      ]
    },
    {
      "cell_type": "code",
      "source": [
        "a = np.array([2,34,12])\n",
        "b = a\n",
        "b[0] = -999\n",
        "print(b)\n",
        "print(a)"
      ],
      "metadata": {
        "colab": {
          "base_uri": "https://localhost:8080/"
        },
        "id": "UwG3gwKsd6OS",
        "outputId": "3758acca-388c-4468-aacd-90f1cb2d352c"
      },
      "execution_count": null,
      "outputs": [
        {
          "output_type": "stream",
          "name": "stdout",
          "text": [
            "[-999   34   12]\n",
            "[-999   34   12]\n"
          ]
        }
      ]
    },
    {
      "cell_type": "code",
      "source": [
        "a = np.array([2,34,12])\n",
        "b = a.copy()\n",
        "b[0] = -999\n",
        "print(b)\n",
        "print(a)"
      ],
      "metadata": {
        "colab": {
          "base_uri": "https://localhost:8080/"
        },
        "id": "V99jE28peNZj",
        "outputId": "014db694-a0c6-43f2-a32b-6d68a2ad2740"
      },
      "execution_count": null,
      "outputs": [
        {
          "output_type": "stream",
          "name": "stdout",
          "text": [
            "[-999   34   12]\n",
            "[ 2 34 12]\n"
          ]
        }
      ]
    },
    {
      "cell_type": "code",
      "source": [
        "np.arange(3) + 5"
      ],
      "metadata": {
        "colab": {
          "base_uri": "https://localhost:8080/"
        },
        "id": "-MiJTAa9ecQy",
        "outputId": "6d31dfcf-462e-4216-ae9f-0ddd77944371"
      },
      "execution_count": null,
      "outputs": [
        {
          "output_type": "execute_result",
          "data": {
            "text/plain": [
              "array([5, 6, 7])"
            ]
          },
          "metadata": {},
          "execution_count": 49
        }
      ]
    },
    {
      "source": [
        "np.ones((3,3)) + np.arange(3)"
      ],
      "cell_type": "code",
      "metadata": {
        "colab": {
          "base_uri": "https://localhost:8080/"
        },
        "id": "yvrSltc_e4Nc",
        "outputId": "1154ab96-dd23-44a6-c3fb-700a76e10102"
      },
      "execution_count": null,
      "outputs": [
        {
          "output_type": "execute_result",
          "data": {
            "text/plain": [
              "array([[1., 2., 3.],\n",
              "       [1., 2., 3.],\n",
              "       [1., 2., 3.]])"
            ]
          },
          "metadata": {},
          "execution_count": 52
        }
      ]
    },
    {
      "cell_type": "code",
      "source": [
        "np.arange(3).reshape((3,1)) + np.arange(3)"
      ],
      "metadata": {
        "colab": {
          "base_uri": "https://localhost:8080/"
        },
        "id": "GkQJaefre6sk",
        "outputId": "225c4e5b-c919-4ff5-8e50-75fea52e0269"
      },
      "execution_count": null,
      "outputs": [
        {
          "output_type": "execute_result",
          "data": {
            "text/plain": [
              "array([[0, 1, 2],\n",
              "       [1, 2, 3],\n",
              "       [2, 3, 4]])"
            ]
          },
          "metadata": {},
          "execution_count": 53
        }
      ]
    },
    {
      "cell_type": "code",
      "source": [
        "np.arange(3).reshape((3,1)) + np.arange(4)"
      ],
      "metadata": {
        "colab": {
          "base_uri": "https://localhost:8080/"
        },
        "id": "GjeaSpwTfIKm",
        "outputId": "529504c7-4d9b-4e9b-9d06-1777639fb0df"
      },
      "execution_count": null,
      "outputs": [
        {
          "output_type": "execute_result",
          "data": {
            "text/plain": [
              "array([[0, 1, 2, 3],\n",
              "       [1, 2, 3, 4],\n",
              "       [2, 3, 4, 5]])"
            ]
          },
          "metadata": {},
          "execution_count": 54
        }
      ]
    },
    {
      "cell_type": "code",
      "source": [
        "np.arange(2)"
      ],
      "metadata": {
        "colab": {
          "base_uri": "https://localhost:8080/"
        },
        "id": "bGpeSPz_fRRL",
        "outputId": "f13efcce-6a8b-4993-a847-ff4651bc8156"
      },
      "execution_count": null,
      "outputs": [
        {
          "output_type": "execute_result",
          "data": {
            "text/plain": [
              "array([0, 1])"
            ]
          },
          "metadata": {},
          "execution_count": 55
        }
      ]
    },
    {
      "cell_type": "code",
      "source": [
        "# Example 2\n",
        "a=np.random.randint(2,6,(2,4))\n",
        "print(a)\n",
        "b=np.random.randint(1,10,(2,2))\n",
        "print(b)"
      ],
      "metadata": {
        "colab": {
          "base_uri": "https://localhost:8080/"
        },
        "id": "dpKM22t1fUSo",
        "outputId": "f15151bd-2bda-4ff7-c74e-6f60f3dd4e51"
      },
      "execution_count": null,
      "outputs": [
        {
          "output_type": "stream",
          "name": "stdout",
          "text": [
            "[[2 4 2 4]\n",
            " [3 4 5 5]]\n",
            "[[4 7]\n",
            " [2 9]]\n"
          ]
        }
      ]
    },
    {
      "source": [
        "a = np.random.randint(2, 6, (2, 4)) # Changed 6(2,4) to 6, (2,4)\n",
        "print(a)\n",
        "b = np.random.randint(0, 5, (2, 4))\n",
        "print(b)"
      ],
      "cell_type": "code",
      "metadata": {
        "colab": {
          "base_uri": "https://localhost:8080/"
        },
        "id": "Wi-zezGcgAZF",
        "outputId": "7710e043-e2af-4c81-a051-680f0de82d01"
      },
      "execution_count": null,
      "outputs": [
        {
          "output_type": "stream",
          "name": "stdout",
          "text": [
            "[[4 5 5 5]\n",
            " [3 5 4 5]]\n",
            "[[4 0 1 0]\n",
            " [4 4 4 4]]\n"
          ]
        }
      ]
    },
    {
      "cell_type": "code",
      "source": [
        "np.multiply(a,b)"
      ],
      "metadata": {
        "colab": {
          "base_uri": "https://localhost:8080/"
        },
        "id": "HcGRB2zegEYL",
        "outputId": "79867da7-9355-4326-bf38-0a6421661934"
      },
      "execution_count": null,
      "outputs": [
        {
          "output_type": "execute_result",
          "data": {
            "text/plain": [
              "array([[16,  0,  5,  0],\n",
              "       [12, 20, 16, 20]])"
            ]
          },
          "metadata": {},
          "execution_count": 59
        }
      ]
    },
    {
      "cell_type": "code",
      "source": [
        "np.divide(a,b)"
      ],
      "metadata": {
        "colab": {
          "base_uri": "https://localhost:8080/"
        },
        "id": "-AkYQhvvgKtp",
        "outputId": "a9697b1f-bc45-4867-fb50-a63b0dfc5654"
      },
      "execution_count": null,
      "outputs": [
        {
          "output_type": "stream",
          "name": "stderr",
          "text": [
            "<ipython-input-60-c364992e28ce>:1: RuntimeWarning: divide by zero encountered in divide\n",
            "  np.divide(a,b)\n"
          ]
        },
        {
          "output_type": "execute_result",
          "data": {
            "text/plain": [
              "array([[1.  ,  inf, 5.  ,  inf],\n",
              "       [0.75, 1.25, 1.  , 1.25]])"
            ]
          },
          "metadata": {},
          "execution_count": 60
        }
      ]
    },
    {
      "cell_type": "code",
      "source": [
        "a = np.random.randint(5, 9, size=(2,4))\n",
        "print(a)"
      ],
      "metadata": {
        "colab": {
          "base_uri": "https://localhost:8080/"
        },
        "id": "OTLRkOGFgOAw",
        "outputId": "7a856327-59cd-4448-ccf4-96761d4c3389"
      },
      "execution_count": null,
      "outputs": [
        {
          "output_type": "stream",
          "name": "stdout",
          "text": [
            "[[8 6 7 7]\n",
            " [8 7 8 7]]\n"
          ]
        }
      ]
    },
    {
      "cell_type": "code",
      "source": [
        "print(np.sum(a))\n",
        "print(np.sum(a,axis=0))\n",
        "print(np.sum(a,axis=1))"
      ],
      "metadata": {
        "colab": {
          "base_uri": "https://localhost:8080/"
        },
        "id": "K1eaj9fzgzWu",
        "outputId": "57bffc76-5f54-4017-ea81-c5b3ec9ed755"
      },
      "execution_count": null,
      "outputs": [
        {
          "output_type": "stream",
          "name": "stdout",
          "text": [
            "58\n",
            "[16 13 15 14]\n",
            "[28 30]\n"
          ]
        }
      ]
    },
    {
      "source": [
        "# Calculate minimum\n",
        "print(np.min(a)) # Minimum of the entire array\n",
        "print(np.min(a,axis=0)) # Minimum across rows (along each column)\n",
        "print(np.min(a,axis=1)) # Minimum across columns (along each row)\n",
        "\n",
        "# The following line caused the error because 'a' is 2-dimensional and doesn't have an axis 2\n",
        "# print(np.min(a,axis=2))"
      ],
      "cell_type": "code",
      "metadata": {
        "colab": {
          "base_uri": "https://localhost:8080/"
        },
        "id": "U5HKgyUghurt",
        "outputId": "b55cf546-3a53-4d2c-dbac-311edba13bf2"
      },
      "execution_count": null,
      "outputs": [
        {
          "output_type": "stream",
          "name": "stdout",
          "text": [
            "6\n",
            "[8 6 7 7]\n",
            "[6 7]\n"
          ]
        }
      ]
    },
    {
      "cell_type": "code",
      "source": [
        "# Sort the array\n",
        "a=np.random.randint(0,20,(3,3))\n",
        "print(a)"
      ],
      "metadata": {
        "colab": {
          "base_uri": "https://localhost:8080/"
        },
        "id": "2c028jZShz7F",
        "outputId": "cd29b791-3edf-48fe-cc7d-fbf0aac28a3b"
      },
      "execution_count": null,
      "outputs": [
        {
          "output_type": "stream",
          "name": "stdout",
          "text": [
            "[[10  5  0]\n",
            " [ 4 14  7]\n",
            " [ 5 16  2]]\n"
          ]
        }
      ]
    },
    {
      "cell_type": "code",
      "source": [
        "print(np.sort(a,axis=0)) # Ascending"
      ],
      "metadata": {
        "colab": {
          "base_uri": "https://localhost:8080/"
        },
        "id": "MQNNdTEDh-ST",
        "outputId": "870f837b-c406-425f-e8e8-a45d8b0e7f3d"
      },
      "execution_count": null,
      "outputs": [
        {
          "output_type": "stream",
          "name": "stdout",
          "text": [
            "[[ 4  5  0]\n",
            " [ 5 14  2]\n",
            " [10 16  7]]\n"
          ]
        }
      ]
    },
    {
      "cell_type": "code",
      "source": [
        "print(np.sort(a,axis=1))"
      ],
      "metadata": {
        "colab": {
          "base_uri": "https://localhost:8080/"
        },
        "id": "CLMxpgl7iIbn",
        "outputId": "d471b4d2-6aa8-4117-dbd5-de3012a8bed4"
      },
      "execution_count": null,
      "outputs": [
        {
          "output_type": "stream",
          "name": "stdout",
          "text": [
            "[[ 0  5 10]\n",
            " [ 4  7 14]\n",
            " [ 2  5 16]]\n"
          ]
        }
      ]
    },
    {
      "cell_type": "code",
      "source": [
        "sum(np.arange(3)*np.arange(3).transpose())"
      ],
      "metadata": {
        "colab": {
          "base_uri": "https://localhost:8080/"
        },
        "id": "upyqywRXiO18",
        "outputId": "e0c6e82c-427b-43b9-fa86-005f398a55f2"
      },
      "execution_count": null,
      "outputs": [
        {
          "output_type": "execute_result",
          "data": {
            "text/plain": [
              "5"
            ]
          },
          "metadata": {},
          "execution_count": 69
        }
      ]
    }
  ]
}