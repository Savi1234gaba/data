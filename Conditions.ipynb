{
  "nbformat": 4,
  "nbformat_minor": 0,
  "metadata": {
    "colab": {
      "provenance": [],
      "authorship_tag": "ABX9TyNhP75HZeahILt5PYBkbKEu",
      "include_colab_link": true
    },
    "kernelspec": {
      "name": "python3",
      "display_name": "Python 3"
    },
    "language_info": {
      "name": "python"
    }
  },
  "cells": [
    {
      "cell_type": "markdown",
      "metadata": {
        "id": "view-in-github",
        "colab_type": "text"
      },
      "source": [
        "<a href=\"https://colab.research.google.com/github/Savi1234gaba/data/blob/main/Conditions.ipynb\" target=\"_parent\"><img src=\"https://colab.research.google.com/assets/colab-badge.svg\" alt=\"Open In Colab\"/></a>"
      ]
    },
    {
      "cell_type": "code",
      "execution_count": null,
      "metadata": {
        "colab": {
          "base_uri": "https://localhost:8080/"
        },
        "id": "hYrmeHI9FYEY",
        "outputId": "06c71def-241a-4517-c579-c8e00bdb482e"
      },
      "outputs": [
        {
          "output_type": "stream",
          "name": "stdout",
          "text": [
            "2\n",
            "21\n"
          ]
        }
      ],
      "source": [
        "# Assignment statement\n",
        "x = 3\n",
        "\n",
        "print(1 + 1)\n",
        "print(len(\"Hello Team AlmaBetter\"))"
      ]
    },
    {
      "cell_type": "code",
      "source": [
        "y = 3.14\n",
        "\n",
        "y"
      ],
      "metadata": {
        "colab": {
          "base_uri": "https://localhost:8080/"
        },
        "id": "c0S8SvX3HE77",
        "outputId": "177dbc98-8e2c-45e5-9727-a12b2375ce74"
      },
      "execution_count": null,
      "outputs": [
        {
          "output_type": "execute_result",
          "data": {
            "text/plain": [
              "3.14"
            ]
          },
          "metadata": {},
          "execution_count": 2
        }
      ]
    },
    {
      "cell_type": "code",
      "source": [
        "a = 'Mighty'\n",
        "# b = a == True\n",
        "\n",
        "a == 'Mighty'"
      ],
      "metadata": {
        "colab": {
          "base_uri": "https://localhost:8080/"
        },
        "id": "YCk40OP5HQD5",
        "outputId": "dd70e8d6-48ea-4b83-8a4c-02dd38f0fab1"
      },
      "execution_count": null,
      "outputs": [
        {
          "output_type": "execute_result",
          "data": {
            "text/plain": [
              "True"
            ]
          },
          "metadata": {},
          "execution_count": 3
        }
      ]
    },
    {
      "cell_type": "code",
      "source": [
        "# Import statement\n",
        "import pandas as pd\n",
        "\n",
        "print(y)"
      ],
      "metadata": {
        "colab": {
          "base_uri": "https://localhost:8080/"
        },
        "id": "AD83UNAXH-Mu",
        "outputId": "bf70b25d-665e-4fe8-90e9-f2d038bd9620"
      },
      "execution_count": null,
      "outputs": [
        {
          "output_type": "stream",
          "name": "stdout",
          "text": [
            "3.14\n"
          ]
        }
      ]
    },
    {
      "cell_type": "code",
      "source": [
        "y"
      ],
      "metadata": {
        "colab": {
          "base_uri": "https://localhost:8080/"
        },
        "id": "TMC1Gb9vIZqD",
        "outputId": "7963d422-df65-492a-9c96-64991b086f10"
      },
      "execution_count": null,
      "outputs": [
        {
          "output_type": "execute_result",
          "data": {
            "text/plain": [
              "3.14"
            ]
          },
          "metadata": {},
          "execution_count": 5
        }
      ]
    },
    {
      "cell_type": "code",
      "source": [
        "x = 1\n",
        "y = 2\n",
        "z = 3\n",
        "\n",
        "y"
      ],
      "metadata": {
        "colab": {
          "base_uri": "https://localhost:8080/"
        },
        "id": "qVh08BCTIbw7",
        "outputId": "6587665a-fe69-449b-dd42-1c272d9b4e74"
      },
      "execution_count": null,
      "outputs": [
        {
          "output_type": "execute_result",
          "data": {
            "text/plain": [
              "2"
            ]
          },
          "metadata": {},
          "execution_count": 6
        }
      ]
    },
    {
      "cell_type": "code",
      "source": [
        "a = 1 + 2 + 3 + 4 + 5 + 6 + 7 + 8 + 9 + 10\n",
        "\n",
        "a"
      ],
      "metadata": {
        "colab": {
          "base_uri": "https://localhost:8080/"
        },
        "id": "rijQfEgcIia9",
        "outputId": "8f0a030c-21c8-4886-900a-07aae35febb4"
      },
      "execution_count": null,
      "outputs": [
        {
          "output_type": "execute_result",
          "data": {
            "text/plain": [
              "55"
            ]
          },
          "metadata": {},
          "execution_count": 7
        }
      ]
    },
    {
      "cell_type": "code",
      "source": [
        "my_list = [1]\n",
        "my_tuple = (1,)\n",
        "\n",
        "my_list, my_tuple"
      ],
      "metadata": {
        "colab": {
          "base_uri": "https://localhost:8080/"
        },
        "id": "Kakh3-QLIuYz",
        "outputId": "821320bc-2841-41c6-dc83-581edd662b53"
      },
      "execution_count": null,
      "outputs": [
        {
          "output_type": "execute_result",
          "data": {
            "text/plain": [
              "([1], (1,))"
            ]
          },
          "metadata": {},
          "execution_count": 8
        }
      ]
    },
    {
      "cell_type": "code",
      "source": [
        "a = (1 + 2 + 3 + 4 + 5 + 6 + 7 + 8 + 9 + 10,)\n",
        "\n",
        "a"
      ],
      "metadata": {
        "colab": {
          "base_uri": "https://localhost:8080/"
        },
        "id": "9kmPEVFuJFRw",
        "outputId": "e4ac9ed1-9723-4e9e-df56-dc83eb024c11"
      },
      "execution_count": null,
      "outputs": [
        {
          "output_type": "execute_result",
          "data": {
            "text/plain": [
              "(55,)"
            ]
          },
          "metadata": {},
          "execution_count": 9
        }
      ]
    },
    {
      "cell_type": "code",
      "source": [
        "type(a)"
      ],
      "metadata": {
        "colab": {
          "base_uri": "https://localhost:8080/"
        },
        "id": "gtbCoW4BJaRG",
        "outputId": "9000221f-b1cb-46d0-ef79-7b79e08e6517"
      },
      "execution_count": null,
      "outputs": [
        {
          "output_type": "execute_result",
          "data": {
            "text/plain": [
              "tuple"
            ]
          },
          "metadata": {},
          "execution_count": 10
        }
      ]
    },
    {
      "cell_type": "code",
      "source": [
        "colors = 'Set theory is the mathematical theory of well-determined collections, called sets, \\\n",
        "of objects that are called members, or elements, of the set. Pure set theory deals exclusively \\\n",
        "wiht stes, so the only sets under consideration are those whose members are also sets. \\\n",
        "The theory of the hereditarily-finite sets, namely those finite sets whose elements are also finite sets,\\\n",
        "the elements of which are also finite, and so on, is formally equivalent to arithmetic. \\\n",
        "So, the essence of set theory is the study of infinite sets, and \\\n",
        "therefore it can be defined as the mathematical theory of the actual-as opposed to potential-infinite.'\n",
        "\n",
        "colors"
      ],
      "metadata": {
        "colab": {
          "base_uri": "https://localhost:8080/",
          "height": 70
        },
        "id": "3GNYIYgnKAA0",
        "outputId": "a0fc7ace-d99f-4981-f0e4-d51043ee5fd2"
      },
      "execution_count": null,
      "outputs": [
        {
          "output_type": "execute_result",
          "data": {
            "text/plain": [
              "'Set theory is the mathematical theory of well-determined collections, called sets, of objects that are called members, or elements, of the set. Pure set theory deals exclusively wiht stes, so the only sets under consideration are those whose members are also sets. The theory of the hereditarily-finite sets, namely those finite sets whose elements are also finite sets,the elements of which are also finite, and so on, is formally equivalent to arithmetic. So, the essence of set theory is the study of infinite sets, and therefore it can be defined as the mathematical theory of the actual-as opposed to potential-infinite.'"
            ],
            "application/vnd.google.colaboratory.intrinsic+json": {
              "type": "string"
            }
          },
          "metadata": {},
          "execution_count": 11
        }
      ]
    },
    {
      "cell_type": "code",
      "source": [
        "a = 1\n",
        "b = 2\n",
        "c = 3\n",
        "\n",
        "a = 1 ; b =2 ; c = 3\n",
        "\n",
        "c"
      ],
      "metadata": {
        "colab": {
          "base_uri": "https://localhost:8080/"
        },
        "id": "1vZH0iOZMvLg",
        "outputId": "240f743f-a49e-4f46-cf9e-1a6e59f45d18"
      },
      "execution_count": null,
      "outputs": [
        {
          "output_type": "execute_result",
          "data": {
            "text/plain": [
              "3"
            ]
          },
          "metadata": {},
          "execution_count": 12
        }
      ]
    },
    {
      "cell_type": "code",
      "source": [
        "a = 1\n",
        "b = 2\n",
        "c = 3\n",
        "\n",
        "a, b, c = [1, 'a', True], (45, 67), {'Name' : 'Vikash' , 'Age' : 27}\n",
        "\n",
        "a"
      ],
      "metadata": {
        "colab": {
          "base_uri": "https://localhost:8080/"
        },
        "id": "gHo_WFJFM8Du",
        "outputId": "9936656e-730c-40dc-9922-e0ccfa3b61ce"
      },
      "execution_count": null,
      "outputs": [
        {
          "output_type": "execute_result",
          "data": {
            "text/plain": [
              "[1, 'a', True]"
            ]
          },
          "metadata": {},
          "execution_count": 14
        }
      ]
    },
    {
      "cell_type": "code",
      "source": [
        "b"
      ],
      "metadata": {
        "colab": {
          "base_uri": "https://localhost:8080/"
        },
        "id": "hQ1gRJV6Nrhb",
        "outputId": "c94e9f0e-ecad-40ef-b9e4-d11cd0929f77"
      },
      "execution_count": null,
      "outputs": [
        {
          "output_type": "execute_result",
          "data": {
            "text/plain": [
              "(45, 67)"
            ]
          },
          "metadata": {},
          "execution_count": 15
        }
      ]
    },
    {
      "cell_type": "code",
      "source": [
        "c"
      ],
      "metadata": {
        "colab": {
          "base_uri": "https://localhost:8080/"
        },
        "id": "wI5XPJApNwBR",
        "outputId": "bfbf930f-df4d-4525-f98c-e5cdd84061b0"
      },
      "execution_count": null,
      "outputs": [
        {
          "output_type": "execute_result",
          "data": {
            "text/plain": [
              "{'Name': 'Vikash', 'Age': 27}"
            ]
          },
          "metadata": {},
          "execution_count": 16
        }
      ]
    },
    {
      "cell_type": "code",
      "source": [
        "a, b = b, a\n",
        "a"
      ],
      "metadata": {
        "colab": {
          "base_uri": "https://localhost:8080/"
        },
        "id": "frkmIOS9Nx6i",
        "outputId": "5570cb2a-7c4f-48e3-ed6a-6fc9327a2728"
      },
      "execution_count": null,
      "outputs": [
        {
          "output_type": "execute_result",
          "data": {
            "text/plain": [
              "(45, 67)"
            ]
          },
          "metadata": {},
          "execution_count": 17
        }
      ]
    },
    {
      "cell_type": "code",
      "source": [
        "b"
      ],
      "metadata": {
        "colab": {
          "base_uri": "https://localhost:8080/"
        },
        "id": "lBeZp3qhN2qx",
        "outputId": "587f04a3-0674-4828-c60b-0dbb6c28ad1d"
      },
      "execution_count": null,
      "outputs": [
        {
          "output_type": "execute_result",
          "data": {
            "text/plain": [
              "[1, 'a', True]"
            ]
          },
          "metadata": {},
          "execution_count": 18
        }
      ]
    },
    {
      "cell_type": "code",
      "source": [
        "# This is a comment\n",
        "# print('Hello)\n",
        "print('Hello')"
      ],
      "metadata": {
        "id": "OF2NXiofN5IS",
        "colab": {
          "base_uri": "https://localhost:8080/"
        },
        "outputId": "9433b50e-c781-4c0c-e0c1-d3fd8378c24c"
      },
      "execution_count": 1,
      "outputs": [
        {
          "output_type": "stream",
          "name": "stdout",
          "text": [
            "Hello\n"
          ]
        }
      ]
    },
    {
      "cell_type": "code",
      "source": [
        "a = 3\n",
        "print(a)"
      ],
      "metadata": {
        "colab": {
          "base_uri": "https://localhost:8080/"
        },
        "id": "TKxmc-AayDQR",
        "outputId": "7f325dfe-b4f8-470a-c7b6-39a3e943cc80"
      },
      "execution_count": 2,
      "outputs": [
        {
          "output_type": "stream",
          "name": "stdout",
          "text": [
            "3\n"
          ]
        }
      ]
    },
    {
      "cell_type": "code",
      "source": [
        "a=2\n",
        "b=1\n",
        "\n",
        "# if b > a:\n",
        "# a = 5\n",
        "# b = 5\n",
        "\n",
        "a"
      ],
      "metadata": {
        "colab": {
          "base_uri": "https://localhost:8080/"
        },
        "id": "-lDBEaGqy0w1",
        "outputId": "f8a5fb15-27b2-4cf5-a257-e18146a1f959"
      },
      "execution_count": 4,
      "outputs": [
        {
          "output_type": "execute_result",
          "data": {
            "text/plain": [
              "2"
            ]
          },
          "metadata": {},
          "execution_count": 4
        }
      ]
    },
    {
      "cell_type": "code",
      "source": [
        "b"
      ],
      "metadata": {
        "colab": {
          "base_uri": "https://localhost:8080/"
        },
        "id": "1AHYsWL5zezB",
        "outputId": "e2c1d489-fd79-459f-b88e-0d195ac0d6ce"
      },
      "execution_count": 5,
      "outputs": [
        {
          "output_type": "execute_result",
          "data": {
            "text/plain": [
              "1"
            ]
          },
          "metadata": {},
          "execution_count": 5
        }
      ]
    },
    {
      "cell_type": "code",
      "source": [
        "i=4\n",
        "if i==2:\n",
        "  print(2)\n",
        "elif i==3:\n",
        "   print(3)\n",
        "else:\n",
        "  print('not 2 and 3')"
      ],
      "metadata": {
        "colab": {
          "base_uri": "https://localhost:8080/"
        },
        "id": "EY7-awSOzlIk",
        "outputId": "5500bd51-21f1-473a-be53-55a7b5fc0132"
      },
      "execution_count": 6,
      "outputs": [
        {
          "output_type": "stream",
          "name": "stdout",
          "text": [
            "not 2 and 3\n"
          ]
        }
      ]
    },
    {
      "cell_type": "code",
      "source": [
        "x=30  # Statement 1 - Assignment statement\n",
        "\n",
        "if x == 30 :\n",
        "  print('x is greater than 10!')\n",
        "  print(f'x is {x}')"
      ],
      "metadata": {
        "colab": {
          "base_uri": "https://localhost:8080/"
        },
        "id": "WmAW5QRI0ABS",
        "outputId": "3b144ced-a544-4f2e-e454-4349ada071cf"
      },
      "execution_count": 8,
      "outputs": [
        {
          "output_type": "stream",
          "name": "stdout",
          "text": [
            "x is greater than 10!\n",
            "x is 30\n"
          ]
        }
      ]
    },
    {
      "cell_type": "code",
      "source": [
        "x == 20"
      ],
      "metadata": {
        "colab": {
          "base_uri": "https://localhost:8080/"
        },
        "id": "QIrWs5nA0xSh",
        "outputId": "64f742da-66a0-4713-e4ab-2941510f47c4"
      },
      "execution_count": 9,
      "outputs": [
        {
          "output_type": "execute_result",
          "data": {
            "text/plain": [
              "False"
            ]
          },
          "metadata": {},
          "execution_count": 9
        }
      ]
    },
    {
      "cell_type": "code",
      "source": [
        "x = False\n",
        "y = True\n",
        "if x:\n",
        "  print('y was True')\n",
        "else:\n",
        "  print('I will be printed in any case where x is not true')\n"
      ],
      "metadata": {
        "colab": {
          "base_uri": "https://localhost:8080/"
        },
        "id": "yJb7CqzW00lt",
        "outputId": "2347b1a4-bb7a-4e43-e421-1efc556df55b"
      },
      "execution_count": 10,
      "outputs": [
        {
          "output_type": "stream",
          "name": "stdout",
          "text": [
            "I will be printed in any case where x is not true\n"
          ]
        }
      ]
    },
    {
      "cell_type": "code",
      "source": [
        "city = 'New Delhi'\n",
        "\n",
        "if city == 'New Delhi':\n",
        "  print('Welcome to the Indian Capital')\n",
        "elif city == 'Mumbai':\n",
        "  print('Welcome to the Financial Capital of India!')\n",
        "else:\n",
        "  print('Where are you?')"
      ],
      "metadata": {
        "colab": {
          "base_uri": "https://localhost:8080/"
        },
        "id": "l4qMYYO01ZIy",
        "outputId": "f0ef29a6-192b-4a6d-b1f3-d40b0b5819c8"
      },
      "execution_count": 11,
      "outputs": [
        {
          "output_type": "stream",
          "name": "stdout",
          "text": [
            "Welcome to the Indian Capital\n"
          ]
        }
      ]
    },
    {
      "cell_type": "code",
      "source": [
        "person = 'Johnny'\n",
        "\n",
        "if person == 'John':\n",
        "  print(f'Welcome {person}!')\n",
        "else:\n",
        "  print(\"Welcome, what's your name?\")\n",
        ""
      ],
      "metadata": {
        "colab": {
          "base_uri": "https://localhost:8080/"
        },
        "id": "OgJbPN-a2PPq",
        "outputId": "c68b12fa-d618-45f4-de67-36e3b358203b"
      },
      "execution_count": 12,
      "outputs": [
        {
          "output_type": "stream",
          "name": "stdout",
          "text": [
            "Welcome, what's your name?\n"
          ]
        }
      ]
    },
    {
      "cell_type": "code",
      "source": [
        "number1 = -2\n",
        "number2 = 9\n",
        "if number1 > 0:\n",
        "  if number2 < 10 :\n",
        "    print(number2 + number1)\n",
        "  else:\n",
        "    print(\"Should be greter than 10\")\n",
        "\n",
        "elif number1 < 0:\n",
        "  print(\"Ah, that's a negative number\")\n",
        "else:\n",
        "  print(\"The number is zero!\")\n"
      ],
      "metadata": {
        "colab": {
          "base_uri": "https://localhost:8080/"
        },
        "id": "8eeFXBzY2weo",
        "outputId": "d61713fc-8600-49aa-d983-168b5336649a"
      },
      "execution_count": 13,
      "outputs": [
        {
          "output_type": "stream",
          "name": "stdout",
          "text": [
            "Ah, that's a negative number\n"
          ]
        }
      ]
    },
    {
      "cell_type": "code",
      "source": [
        "if False:\n",
        "  print(\"what do you say?\")\n",
        "else:\n",
        "  print(\"I have nothing to say\")"
      ],
      "metadata": {
        "colab": {
          "base_uri": "https://localhost:8080/"
        },
        "id": "trPFDNLz4E41",
        "outputId": "ed5260a0-9249-4150-ae9e-6d98ed38ab73"
      },
      "execution_count": 14,
      "outputs": [
        {
          "output_type": "stream",
          "name": "stdout",
          "text": [
            "I have nothing to say\n"
          ]
        }
      ]
    },
    {
      "cell_type": "code",
      "source": [
        "if [None]:\n",
        "  print(\"Well I had a really bad day!\")\n",
        "else:\n",
        "  print(\"Come on you aced your test.\")"
      ],
      "metadata": {
        "colab": {
          "base_uri": "https://localhost:8080/"
        },
        "id": "D8Lj5UQL4Zz1",
        "outputId": "a6379246-850a-4bba-aeb0-768d0ed5c39e"
      },
      "execution_count": 15,
      "outputs": [
        {
          "output_type": "stream",
          "name": "stdout",
          "text": [
            "Well I had a really bad day!\n"
          ]
        }
      ]
    },
    {
      "cell_type": "code",
      "source": [
        "if {1:2,3:4}:\n",
        "  print(\"This is True\")\n",
        "else:\n",
        "  print(\"This is False\")"
      ],
      "metadata": {
        "colab": {
          "base_uri": "https://localhost:8080/"
        },
        "id": "oOuCUcKu4ri3",
        "outputId": "9605f195-662a-45cb-d4c2-d3ef7ae017df"
      },
      "execution_count": 16,
      "outputs": [
        {
          "output_type": "stream",
          "name": "stdout",
          "text": [
            "This is True\n"
          ]
        }
      ]
    }
  ]
}