{
  "nbformat": 4,
  "nbformat_minor": 0,
  "metadata": {
    "colab": {
      "provenance": [],
      "authorship_tag": "ABX9TyONcsELvym5xv7EQCnytzWj",
      "include_colab_link": true
    },
    "kernelspec": {
      "name": "python3",
      "display_name": "Python 3"
    },
    "language_info": {
      "name": "python"
    }
  },
  "cells": [
    {
      "cell_type": "markdown",
      "metadata": {
        "id": "view-in-github",
        "colab_type": "text"
      },
      "source": [
        "<a href=\"https://colab.research.google.com/github/Savi1234gaba/data/blob/main/Complexity.ipynb\" target=\"_parent\"><img src=\"https://colab.research.google.com/assets/colab-badge.svg\" alt=\"Open In Colab\"/></a>"
      ]
    },
    {
      "cell_type": "code",
      "execution_count": 2,
      "metadata": {
        "colab": {
          "base_uri": "https://localhost:8080/"
        },
        "id": "3J5L3n8xbW5q",
        "outputId": "0915ffac-72c2-49d2-b8e8-3a3e17559949"
      },
      "outputs": [
        {
          "output_type": "stream",
          "name": "stdout",
          "text": [
            "Match found at index:  5\n",
            "5\n"
          ]
        }
      ],
      "source": [
        "integer_to_match = 13\n",
        "list_to_search = [1, 3, 5, 8, 12, 13, 15, 16, 18, 20, 22, 30, 40, 50, 55, 67]\n",
        "\n",
        "c=0\n",
        "for i in range(len(list_to_search)):\n",
        " if integer_to_match==list_to_search[i]:\n",
        "  print(\"Match found at index: \", i)\n",
        "  break\n",
        " c+=1\n",
        "print(c)"
      ]
    },
    {
      "cell_type": "code",
      "source": [
        "list_to_search.index(integer_to_match)"
      ],
      "metadata": {
        "colab": {
          "base_uri": "https://localhost:8080/"
        },
        "id": "lz8uF54lcRlo",
        "outputId": "ed1f5eca-2371-49c0-f86f-085e6501af72"
      },
      "execution_count": 3,
      "outputs": [
        {
          "output_type": "execute_result",
          "data": {
            "text/plain": [
              "5"
            ]
          },
          "metadata": {},
          "execution_count": 3
        }
      ]
    },
    {
      "cell_type": "code",
      "source": [
        "list_to_search.sort()\n",
        "print(list_to_search)\n",
        "l=0\n",
        "r=len(list_to_search)-1\n",
        "c=0\n",
        "while l<r:\n",
        "  m=(l+r)//2\n",
        "  if list_to_search[m]==integer_to_match:\n",
        "    break\n",
        "\n",
        "  elif list_to_search[m]<integer_to_match:\n",
        "    l=m+1\n",
        "  else:\n",
        "    r=m-1\n",
        "  c+=1\n",
        "print(c)"
      ],
      "metadata": {
        "colab": {
          "base_uri": "https://localhost:8080/"
        },
        "id": "IoikTb1RcmYJ",
        "outputId": "a65ec9d7-078d-438c-8015-26ac2ebeaafc"
      },
      "execution_count": 4,
      "outputs": [
        {
          "output_type": "stream",
          "name": "stdout",
          "text": [
            "[1, 3, 5, 8, 12, 13, 15, 16, 18, 20, 22, 30, 40, 50, 55, 67]\n",
            "2\n"
          ]
        }
      ]
    },
    {
      "cell_type": "code",
      "source": [
        "list_to_sum = [1, 2, 3, 4, 5, 6, 7]\n",
        "\n",
        "sum = 0\n",
        "for i in range(len(list_to_sum)):\n",
        "  sum = sum + list_to_sum[i]\n",
        "\n",
        "sum"
      ],
      "metadata": {
        "colab": {
          "base_uri": "https://localhost:8080/"
        },
        "id": "g9W7HNF6jR4k",
        "outputId": "0e5a383f-cbca-4bbe-e0da-d6236cff6349"
      },
      "execution_count": 9,
      "outputs": [
        {
          "output_type": "execute_result",
          "data": {
            "text/plain": [
              "28"
            ]
          },
          "metadata": {},
          "execution_count": 9
        }
      ]
    },
    {
      "cell_type": "code",
      "source": [
        "sum = []\n",
        "c=0\n",
        "for i in range(len(list_to_sum)):\n",
        "  if i==0:\n",
        "    sum.append(list_to_sum[i])\n",
        "  else:\n",
        "    sum.append(sum[-1] + list_to_sum[i])\n",
        "  c+=1\n",
        "print(c)"
      ],
      "metadata": {
        "colab": {
          "base_uri": "https://localhost:8080/"
        },
        "id": "3AonOcv1juc7",
        "outputId": "8d449637-4ade-4660-b1e2-2802223718fd"
      },
      "execution_count": 11,
      "outputs": [
        {
          "output_type": "stream",
          "name": "stdout",
          "text": [
            "7\n"
          ]
        }
      ]
    },
    {
      "cell_type": "code",
      "source": [
        "sum"
      ],
      "metadata": {
        "colab": {
          "base_uri": "https://localhost:8080/"
        },
        "id": "ISOXECXhkv4l",
        "outputId": "ccf5a628-6985-4370-a1dd-6e9d4120bf07"
      },
      "execution_count": 12,
      "outputs": [
        {
          "output_type": "execute_result",
          "data": {
            "text/plain": [
              "[1, 3, 6, 10, 15, 21, 28]"
            ]
          },
          "metadata": {},
          "execution_count": 12
        }
      ]
    },
    {
      "cell_type": "code",
      "source": [
        "sum[-1]"
      ],
      "metadata": {
        "colab": {
          "base_uri": "https://localhost:8080/"
        },
        "id": "J9JNK23TkyJg",
        "outputId": "31c682ce-6570-45b5-b107-239b28dc1f37"
      },
      "execution_count": 13,
      "outputs": [
        {
          "output_type": "execute_result",
          "data": {
            "text/plain": [
              "28"
            ]
          },
          "metadata": {},
          "execution_count": 13
        }
      ]
    },
    {
      "cell_type": "code",
      "source": [
        "# Approach 1\n",
        "\n",
        "A = [1,11,4,9,16,2,23,45,77,15]\n",
        "B = [51,29,82,32,67,5,2,22,78,98]\n",
        "areas = []\n",
        "c=0\n",
        "for i in A:\n",
        "  for b in B:\n",
        "    areas.append(i * b)\n",
        "    c+=1\n",
        "d=c\n",
        "print(d)"
      ],
      "metadata": {
        "colab": {
          "base_uri": "https://localhost:8080/"
        },
        "id": "CWIXN9l5k1L6",
        "outputId": "92fc75c3-7f3b-4c9c-8b83-5fe3fc15d146"
      },
      "execution_count": 16,
      "outputs": [
        {
          "output_type": "stream",
          "name": "stdout",
          "text": [
            "100\n"
          ]
        }
      ]
    },
    {
      "cell_type": "code",
      "source": [
        "max_area = 0\n",
        "for area in areas:\n",
        "  if area>max_area:\n",
        "    max_area=area\n",
        "  d=d+1\n",
        "print(d)"
      ],
      "metadata": {
        "colab": {
          "base_uri": "https://localhost:8080/"
        },
        "id": "ywYorcCtmBkD",
        "outputId": "2d19d130-1cc1-436e-cc4e-fa2454f43c86"
      },
      "execution_count": 17,
      "outputs": [
        {
          "output_type": "stream",
          "name": "stdout",
          "text": [
            "200\n"
          ]
        }
      ]
    },
    {
      "cell_type": "code",
      "source": [
        "len(areas)"
      ],
      "metadata": {
        "colab": {
          "base_uri": "https://localhost:8080/"
        },
        "id": "c55BtWZzmS39",
        "outputId": "a9a876dc-e7cb-49ea-ab3a-bf1a764a8796"
      },
      "execution_count": 18,
      "outputs": [
        {
          "output_type": "execute_result",
          "data": {
            "text/plain": [
              "100"
            ]
          },
          "metadata": {},
          "execution_count": 18
        }
      ]
    },
    {
      "cell_type": "code",
      "source": [
        "max_area"
      ],
      "metadata": {
        "colab": {
          "base_uri": "https://localhost:8080/"
        },
        "id": "WMTgcpoqmWRX",
        "outputId": "9ad91ff9-5a56-441e-eca3-4ff4623b2e74"
      },
      "execution_count": 19,
      "outputs": [
        {
          "output_type": "execute_result",
          "data": {
            "text/plain": [
              "7546"
            ]
          },
          "metadata": {},
          "execution_count": 19
        }
      ]
    },
    {
      "cell_type": "code",
      "source": [
        "max(areas)"
      ],
      "metadata": {
        "colab": {
          "base_uri": "https://localhost:8080/"
        },
        "id": "yd1u46uXmY8q",
        "outputId": "e6db924f-b017-488e-a2d0-39164e91a93d"
      },
      "execution_count": 20,
      "outputs": [
        {
          "output_type": "execute_result",
          "data": {
            "text/plain": [
              "7546"
            ]
          },
          "metadata": {},
          "execution_count": 20
        }
      ]
    },
    {
      "cell_type": "code",
      "source": [
        "# Approach 2\n",
        "\n",
        "A = [1,11,4,9,16,2,23,45,77,15]\n",
        "B = [51,29,82,32,67,5,2,22,78,98]\n",
        "e=0\n",
        "max_a = 0\n",
        "for a in A:\n",
        "  if a>max_a:\n",
        "    max_a=a\n",
        "  e+=1\n",
        "\n",
        "max_b = 0\n",
        "for b in B:\n",
        "  if b>max_b:\n",
        "    max_b=b\n",
        "  e+=1\n",
        "\n",
        "print(e)"
      ],
      "metadata": {
        "colab": {
          "base_uri": "https://localhost:8080/"
        },
        "id": "Sy7Dcog_mbih",
        "outputId": "7bb2262f-afbf-4e29-9685-ecca69044641"
      },
      "execution_count": 21,
      "outputs": [
        {
          "output_type": "stream",
          "name": "stdout",
          "text": [
            "20\n"
          ]
        }
      ]
    },
    {
      "cell_type": "code",
      "source": [
        "max_a * max_b"
      ],
      "metadata": {
        "colab": {
          "base_uri": "https://localhost:8080/"
        },
        "id": "xumofP1Qn8Gi",
        "outputId": "19abfa31-256b-4a18-d276-20f78a0086fd"
      },
      "execution_count": 22,
      "outputs": [
        {
          "output_type": "execute_result",
          "data": {
            "text/plain": [
              "7546"
            ]
          },
          "metadata": {},
          "execution_count": 22
        }
      ]
    },
    {
      "cell_type": "code",
      "source": [],
      "metadata": {
        "id": "I0mokeFdlee5"
      },
      "execution_count": null,
      "outputs": []
    }
  ]
}